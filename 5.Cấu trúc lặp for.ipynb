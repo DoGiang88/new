{
 "cells": [
  {
   "cell_type": "markdown",
   "id": "33f9d7a5",
   "metadata": {},
   "source": [
    "# Cấu trúc lặp for trong python"
   ]
  },
  {
   "attachments": {
    "image.png": {
     "image/png": "[encoded data removed]"
    }
   },
   "cell_type": "markdown",
   "id": "f64c9eae",
   "metadata": {},
   "source": [
    "## Review: Vẽ kim tự tháp\n",
    "![image.png](attachment:image.png)"
   ]
  },
  {
   "cell_type": "code",
   "execution_count": null,
   "id": "ffcb1603",
   "metadata": {},
   "outputs": [
    {
     "name": "stdout",
     "output_type": "stream",
     "text": [
      "nhập chiều cao kim tự tháp : 10\n"
     ]
    }
   ],
   "source": [
    "#vẽ chiều cao kim tự tháp\n",
    "import turtle\n",
    "cao = int(input(\"nhập chiều cao kim tự tháp : \"))\n",
    "i = 1\n",
    "p = turtle.Turtle ()\n",
    "\n",
    "while i <= cao:\n",
    "    p.circle (i*20,steps=3)\n",
    "    i += 1\n",
    "turtle.done ()"
   ]
  },
  {
   "cell_type": "markdown",
   "id": "35ef7a35",
   "metadata": {},
   "source": [
    "## for kết hợp với hàm range()"
   ]
  },
  {
   "cell_type": "markdown",
   "id": "80e01298",
   "metadata": {},
   "source": [
    "### Trường hợp 1 tham số"
   ]
  },
  {
   "cell_type": "code",
   "execution_count": 2,
   "id": "b56eadb4",
   "metadata": {},
   "outputs": [
    {
     "name": "stdout",
     "output_type": "stream",
     "text": [
      "0\n",
      "1\n",
      "2\n",
      "3\n",
      "4\n",
      "5\n",
      "6\n",
      "7\n",
      "8\n",
      "9\n",
      "10\n",
      "-------------------\n",
      "0\n",
      "1\n",
      "2\n",
      "3\n",
      "4\n",
      "5\n",
      "6\n",
      "7\n",
      "8\n",
      "9\n",
      "10\n"
     ]
    }
   ],
   "source": [
    "count = 0\n",
    "while count <= 10:\n",
    "    print (count)\n",
    "    count +=1\n",
    "    \n",
    "print ('-------------------')\n",
    "\n",
    "for i in range (11):  ## i in range(11) tạo biến đếm từ số i đến TRƯỚC SỐ 11\n",
    "    print (i)"
   ]
  },
  {
   "cell_type": "markdown",
   "id": "b4eb03ed",
   "metadata": {},
   "source": [
    "### Ví dụ: In các số lẻ từ 0 đến 100"
   ]
  },
  {
   "cell_type": "code",
   "execution_count": 7,
   "id": "f73caa14",
   "metadata": {},
   "outputs": [
    {
     "name": "stdout",
     "output_type": "stream",
     "text": [
      "51\n",
      "53\n",
      "55\n",
      "57\n",
      "59\n",
      "61\n",
      "63\n",
      "65\n",
      "67\n",
      "69\n",
      "71\n",
      "73\n",
      "75\n",
      "77\n",
      "79\n",
      "81\n",
      "83\n",
      "85\n",
      "87\n",
      "89\n",
      "91\n",
      "93\n",
      "95\n",
      "97\n",
      "99\n"
     ]
    }
   ],
   "source": [
    "for i in range (101):\n",
    "    if i % 2 == 1:\n",
    "        print (i)"
   ]
  },
  {
   "cell_type": "markdown",
   "id": "5b4c7f1c",
   "metadata": {},
   "source": [
    "# Trường hợp 2 tham số: range (num_1,num_2)\n",
    "num_1 là SỐ BẮT ĐẦU\n",
    "num_2 là DỪNG lại TRƯỚC num_2, ví dụ: num_3 = 5 thì kết quả chỉ liệt kê đến 4"
   ]
  },
  {
   "cell_type": "code",
   "execution_count": null,
   "id": "ab369d26",
   "metadata": {},
   "outputs": [],
   "source": [
    "# liệt kê số CHẴN từ 50 ĐẾN 100\n",
    "for i in range (50,101): \n",
    "    if not i % 2 :  ## NOT LÀ phủ định  kết quả (1 % 2)\n",
    "        print (i)"
   ]
  },
  {
   "cell_type": "markdown",
   "id": "06853353",
   "metadata": {},
   "source": [
    "### Ví dụ: In các số chia hết cho 7 từ a đến b"
   ]
  },
  {
   "cell_type": "code",
   "execution_count": 9,
   "id": "7b21bcdf",
   "metadata": {},
   "outputs": [
    {
     "name": "stdout",
     "output_type": "stream",
     "text": [
      "Nhập a:1\n",
      "Nhập b:7\n",
      "7\n"
     ]
    }
   ],
   "source": [
    "#nhập vào 2 số a, b và in ra các số chia hết cho 7 trong đoạn [a...b]\n",
    "a = int(input(\"Nhập a:\"))\n",
    "b = int(input(\"Nhập b:\"))\n",
    "\n",
    "for i in range (a,b+1): \n",
    "    if not i % 7:\n",
    "        print (i)"
   ]
  },
  {
   "cell_type": "markdown",
   "id": "5f784920",
   "metadata": {},
   "source": [
    "### Trường hợp 3 tham số: range (num_1,num_2,num_3)\n",
    "num_3: nếu là số dương thì nghĩa là mỗi lần lặp thì cộng thêm num_3\n",
    "nếu là số âm thì mỗi lần lặp TRỪ đi số num_3"
   ]
  },
  {
   "cell_type": "code",
   "execution_count": null,
   "id": "f6b32018",
   "metadata": {},
   "outputs": [],
   "source": []
  },
  {
   "cell_type": "markdown",
   "id": "a4c0fc85",
   "metadata": {},
   "source": [
    "### Ví dụ: Biểu diễn cấp số cộng"
   ]
  },
  {
   "cell_type": "code",
   "execution_count": 14,
   "id": "9e9a5cbf",
   "metadata": {},
   "outputs": [
    {
     "name": "stdout",
     "output_type": "stream",
     "text": [
      "Nhập số hạng đầu: 1\n",
      "Nhập số công sai: 4\n",
      "5\n",
      "9\n",
      "13\n",
      "17\n",
      "21\n",
      "25\n",
      "29\n",
      "33\n",
      "37\n",
      "41\n"
     ]
    }
   ],
   "source": [
    "# viết chương trình nhập số hạng đầu và công sai của một cặp số cộng\n",
    "# in ra 10 số hạng tiếp theo của cấp số cộng đó\n",
    "a = int(input(\"Nhập số hạng đầu: \")) \n",
    "cong_sai = int(input(\"Nhập số công sai: \"))\n",
    "b = cong_sai * 10\n",
    "for i in range (a + cong_sai,a + cong_sai * 10+1,cong_sai):\n",
    "    print (i)"
   ]
  },
  {
   "cell_type": "markdown",
   "id": "a2a61887",
   "metadata": {},
   "source": [
    "## lặp qua một chuỗi"
   ]
  },
  {
   "cell_type": "code",
   "execution_count": 16,
   "id": "e495f392",
   "metadata": {},
   "outputs": [
    {
     "name": "stdout",
     "output_type": "stream",
     "text": [
      "T\n",
      "h\n",
      "i\n",
      "s\n",
      " \n",
      "i\n",
      "s\n",
      " \n",
      "a\n",
      " \n",
      "n\n",
      "i\n",
      "c\n",
      "e\n",
      " \n",
      "d\n",
      "a\n",
      "y\n"
     ]
    }
   ],
   "source": [
    "content = \"This is a nice day\"\n",
    "for c in content:\n",
    "    print (c)"
   ]
  },
  {
   "cell_type": "markdown",
   "id": "a4013631",
   "metadata": {},
   "source": [
    "### Ví dụ: Đếm số lượng nguyên âm trong chuỗi"
   ]
  },
  {
   "cell_type": "code",
   "execution_count": 18,
   "id": "319bfb92",
   "metadata": {},
   "outputs": [
    {
     "name": "stdout",
     "output_type": "stream",
     "text": [
      "tổng số nguyên âm trong câu là 6\n"
     ]
    }
   ],
   "source": [
    "#Viết một chương trình để đếm số lần xuất hiện các nguyên âm trong một chuỗ cho trước\n",
    "total = 0\n",
    "\n",
    "for c in content:\n",
    "    if c == \"a\" or c == \"e\" or c == \"o\" or c == \"i\" or c == \"u\":\n",
    "        total += 1\n",
    "        \n",
    "print (f\"tổng số nguyên âm trong câu là {total}\")"
   ]
  },
  {
   "cell_type": "code",
   "execution_count": 19,
   "id": "15a2db6e",
   "metadata": {},
   "outputs": [
    {
     "name": "stdout",
     "output_type": "stream",
     "text": [
      "tổng số nguyên âm trong câu là 6\n"
     ]
    }
   ],
   "source": [
    "## cách 2:\n",
    "total = 0\n",
    "\n",
    "for c in content:\n",
    "    if c in \"aeiuo\":\n",
    "        total += 1\n",
    "        \n",
    "print (f\"tổng số nguyên âm trong câu là {total}\")"
   ]
  },
  {
   "cell_type": "markdown",
   "id": "49bf78d3",
   "metadata": {},
   "source": [
    "## Lặp qua một danh sách chuỗi"
   ]
  },
  {
   "cell_type": "code",
   "execution_count": 22,
   "id": "0a5874cf",
   "metadata": {},
   "outputs": [
    {
     "name": "stdout",
     "output_type": "stream",
     "text": [
      "['A', 'B', 'C', 'D', 'E']\n",
      "---------------------\n",
      "A\n",
      "B\n",
      "C\n",
      "D\n",
      "E\n"
     ]
    }
   ],
   "source": [
    "names = \"Anh Bi Cong Danh En\"\n",
    "name_list = names.split ()\n",
    "\n",
    "print (name_list)\n",
    "print (\"---------------------\")\n",
    "for member in name_list:\n",
    "    print (member)"
   ]
  },
  {
   "cell_type": "markdown",
   "id": "be1b5ba5",
   "metadata": {},
   "source": [
    "### Ví dụ: Tìm chuỗi dài nhất"
   ]
  },
  {
   "cell_type": "code",
   "execution_count": 31,
   "id": "d6e7ef2c",
   "metadata": {},
   "outputs": [
    {
     "name": "stdout",
     "output_type": "stream",
     "text": [
      "Tên dài nhất có 4 ký tự\n"
     ]
    }
   ],
   "source": [
    "#duyệt qua tập hơp name_list và cho biết tên dài nhất có bn ký tự\n",
    "names = \"Anh Bi Cong Danh En\"\n",
    "name_list = names.split ()\n",
    "max_len = 0\n",
    "for member in name_list:\n",
    "    if len(member) > max_len:\n",
    "        max_len = len (member)\n",
    "        \n",
    "print (f\"Tên dài nhất có {max_len} ký tự\")"
   ]
  },
  {
   "cell_type": "markdown",
   "id": "69fa4d9f",
   "metadata": {},
   "source": [
    "## Vòng lặp lồng nhau"
   ]
  },
  {
   "cell_type": "code",
   "execution_count": null,
   "id": "864bc218",
   "metadata": {},
   "outputs": [],
   "source": [
    "c = [\"A\", ]"
   ]
  }
 ],
 "metadata": {
  "kernelspec": {
   "display_name": "Python 3 (ipykernel)",
   "language": "python",
   "name": "python3"
  },
  "language_info": {
   "codemirror_mode": {
    "name": "ipython",
    "version": 3
   },
   "file_extension": ".py",
   "mimetype": "text/x-python",
   "name": "python",
   "nbconvert_exporter": "python",
   "pygments_lexer": "ipython3",
   "version": "3.9.6"
  }
 },
 "nbformat": 4,
 "nbformat_minor": 5
}

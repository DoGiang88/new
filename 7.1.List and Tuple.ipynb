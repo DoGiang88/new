{
 "cells": [
  {
   "cell_type": "markdown",
   "metadata": {},
   "source": [
    "## Review: type()"
   ]
  },
  {
   "cell_type": "code",
   "execution_count": null,
   "metadata": {},
   "outputs": [],
   "source": [
    "# Python có 4 kiểu dữ liệu cơ bản"
   ]
  },
  {
   "cell_type": "markdown",
   "metadata": {},
   "source": [
    "## list là gì?"
   ]
  },
  {
   "cell_type": "code",
   "execution_count": null,
   "metadata": {},
   "outputs": [],
   "source": [
    "# Ví dụ\n",
    "#def print_group_names ()name1, name2,..., name5:"
   ]
  },
  {
   "cell_type": "code",
   "execution_count": 4,
   "metadata": {},
   "outputs": [
    {
     "name": "stdout",
     "output_type": "stream",
     "text": [
      "member in my group: andy, c, d, e and me\n"
     ]
    }
   ],
   "source": [
    "def print_group_names (name1, name2, name3, name4, name5):\n",
    "    print (f\"member in my group: {name1}, {name2}, {name3}, {name4} and {name5}\")\n",
    "print_group_names (\"andy\", \"c\", \"d\", \"e\", \"me\")\n",
    "\n",
    "'''\n",
    "nhược điểm của cách viết trên là cần phải tạo rất nhiều biến\n",
    "cũng như phải khai báo rất nhiều giá trị\n",
    "Điều đó sẽ rất khó khăn nếu công ty có từ mấy chục nhân viên trở lên\n",
    "'''"
   ]
  },
  {
   "cell_type": "code",
   "execution_count": 8,
   "metadata": {},
   "outputs": [
    {
     "name": "stdout",
     "output_type": "stream",
     "text": [
      "d\n"
     ]
    }
   ],
   "source": [
    "# Sử dụng list\n",
    "number = 4\n",
    "string = \"abc\"\n",
    "boolean = True\n",
    "\n",
    "##LIST\n",
    "#List trong python là một dạng dữ liệu cho phép lưu trữ nhiều \n",
    "#kiểu dữ liệu khác nhau. Trong đó, nó và chúng ta có thê truy xuất các phần tử\n",
    "#bên trong nó thông qua vị trí của phần tử đó trong list\n",
    "names = [\"andy\", \"c\", \"d\", \"e\", \"me\"]\n",
    "print (names [2])\n"
   ]
  },
  {
   "cell_type": "markdown",
   "metadata": {},
   "source": [
    "### Thực hành: Viết chương trình tạo ra một list các string khác nhau và đếm tổng số lượng string dài hơn 3 kí tự"
   ]
  },
  {
   "cell_type": "code",
   "execution_count": 8,
   "metadata": {},
   "outputs": [
    {
     "name": "stdout",
     "output_type": "stream",
     "text": [
      "1\n"
     ]
    }
   ],
   "source": [
    "names = [\"andy\", \"c\", \"d\", \"e\", \"me\"]\n",
    "\n",
    "def count_list():\n",
    "    num = 0\n",
    "    for i in names:\n",
    "        if len (i) > 3:\n",
    "            num +=1\n",
    "    print (num)\n",
    "count_list()\n"
   ]
  },
  {
   "cell_type": "code",
   "execution_count": null,
   "metadata": {},
   "outputs": [],
   "source": []
  },
  {
   "cell_type": "markdown",
   "metadata": {},
   "source": [
    "### Thực hành 2: Viết chương trình nhận vào 2 list và trả về True nếu 2 list có ít nhất 1 phần tử chung, ngược lại trả về False"
   ]
  },
  {
   "cell_type": "code",
   "execution_count": null,
   "metadata": {},
   "outputs": [],
   "source": []
  },
  {
   "cell_type": "markdown",
   "metadata": {},
   "source": [
    "## Các thao tác cơ bản với list"
   ]
  },
  {
   "cell_type": "markdown",
   "metadata": {},
   "source": [
    "### Kiểm tra độ dài list"
   ]
  },
  {
   "cell_type": "code",
   "execution_count": 9,
   "metadata": {},
   "outputs": [
    {
     "name": "stdout",
     "output_type": "stream",
     "text": [
      "5\n"
     ]
    }
   ],
   "source": [
    "a = [1, 2, 3, 4, 9]\n",
    "print (len(a))"
   ]
  },
  {
   "cell_type": "markdown",
   "metadata": {},
   "source": [
    "### Truy cập phần tử trên list"
   ]
  },
  {
   "cell_type": "code",
   "execution_count": 10,
   "metadata": {},
   "outputs": [
    {
     "name": "stdout",
     "output_type": "stream",
     "text": [
      "4\n",
      "3\n"
     ]
    }
   ],
   "source": [
    "a = [1, 2, 3, 4, 5]\n",
    "#sử dụng index\n",
    "print (a[3])  #3\n",
    "\n",
    "#sử dụng reversed index\n",
    "print (a[-3])"
   ]
  },
  {
   "cell_type": "markdown",
   "metadata": {},
   "source": [
    "### Thực hành: Tạo một list 10 số tự nhiên và in ra các phần tử trong list"
   ]
  },
  {
   "cell_type": "code",
   "execution_count": 13,
   "metadata": {},
   "outputs": [
    {
     "name": "stdout",
     "output_type": "stream",
     "text": [
      "0\n",
      "1\n",
      "2\n",
      "3\n",
      "4\n",
      "5\n",
      "6\n",
      "7\n",
      "8\n",
      "9\n",
      "10\n"
     ]
    }
   ],
   "source": [
    "a = [1, 2, 3, 4, 5, 6, 7, 8, 9, 10, 11]\n",
    "\n",
    "for i in range (11):\n",
    "    print (i)\n",
    "\n"
   ]
  },
  {
   "cell_type": "code",
   "execution_count": 11,
   "metadata": {},
   "outputs": [
    {
     "name": "stdout",
     "output_type": "stream",
     "text": [
      "0 1 2 3 4 5 6 7 8 9 10 "
     ]
    }
   ],
   "source": [
    "a = [1, 2, 3, 4, 5, 6, 7, 8, 9, 10, 11]\n",
    "\n",
    "for i in range (11):\n",
    "    print (i, end = \" \")"
   ]
  },
  {
   "cell_type": "markdown",
   "metadata": {},
   "source": [
    "### Thực hành 2: Tạo ra một list con chưa 2 phần tử cuối cùng từ list đã tạo ở trên"
   ]
  },
  {
   "cell_type": "code",
   "execution_count": 19,
   "metadata": {},
   "outputs": [
    {
     "name": "stdout",
     "output_type": "stream",
     "text": [
      "[6, 7]\n",
      "['b', 'c']\n"
     ]
    }
   ],
   "source": [
    "tao_list = [5,6,7]\n",
    "print(tao_list[-2:])\n",
    "\n",
    "tao_list = [\"a\", \"b\", \"c\"]\n",
    "print(tao_list[-2:])"
   ]
  },
  {
   "cell_type": "markdown",
   "metadata": {},
   "source": [
    "### Cộng list"
   ]
  },
  {
   "cell_type": "code",
   "execution_count": 14,
   "metadata": {},
   "outputs": [
    {
     "name": "stdout",
     "output_type": "stream",
     "text": [
      "['a', 'b', 'c']\n",
      "['a', 'b', 'c', 'd']\n",
      "['apple', 'cherry', 'banana', 'watermelon']\n",
      "['a', 'b', 'c', 1, 2, 3]\n",
      "['m', 'n', 'm', 'n', 'm', 'n']\n"
     ]
    }
   ],
   "source": [
    "#append: chỉ thêm MỘT phần tử mới vào list hiện tại\n",
    "re = ['a', \"b\", \"c\"]\n",
    "print (re)\n",
    "re.append (\"d\")\n",
    "print (re)\n",
    "\n",
    "#phép cộng\n",
    "fruit = ['apple', 'cherry']\n",
    "fruit2 = ['banana', 'watermelon']\n",
    "all_fruit = fruit + fruit2\n",
    "print (all_fruit)\n",
    "\n",
    "##extend: thêm vô NHIỀU phần tử của 1 list khác vào list hiện tại\n",
    "re = [\"a\", \"b\", \"c\"]\n",
    "re.extend ([1,2,3])\n",
    "print (re)\n",
    "\n",
    "\n",
    "##phép nhân\n",
    "print ([\"m\", \"n\"]*3)"
   ]
  },
  {
   "cell_type": "code",
   "execution_count": null,
   "metadata": {},
   "outputs": [],
   "source": [
    "#REVIEW\n",
    "#khởi tạo list\n",
    "a = [1,2,3,4,5,7,8,9]\n",
    "print (type(a))\n",
    "\n",
    "#in ra kết quả [1,3,5,8]\n",
    "print (a[::2])"
   ]
  },
  {
   "cell_type": "markdown",
   "metadata": {},
   "source": [
    "### Thực hành: Thêm học sinh vào lớp"
   ]
  },
  {
   "cell_type": "code",
   "execution_count": 15,
   "metadata": {},
   "outputs": [
    {
     "name": "stdout",
     "output_type": "stream",
     "text": [
      "['giang', 'hang', 'ho']\n"
     ]
    }
   ],
   "source": [
    "hoc_sinh = [\"giang\", \"hang\"]\n",
    "hoc_sinh.append (\"ho\")\n",
    "print (hoc_sinh)"
   ]
  },
  {
   "cell_type": "markdown",
   "metadata": {},
   "source": [
    "### Kiểm tra phần tử tồn tại trong list"
   ]
  },
  {
   "cell_type": "code",
   "execution_count": 5,
   "metadata": {},
   "outputs": [
    {
     "name": "stdout",
     "output_type": "stream",
     "text": [
      "Sử dụng pp FOR: 30 có tồn tại trong list\n",
      "sử dụng pp IN: 30 có tồn tại trong list\n",
      "sử dụng pp COUNT: 30 có tồn tại trong list\n"
     ]
    }
   ],
   "source": [
    "a = [10, 20, 30, 40, 50]\n",
    "##CÁCH 1: sử dụng vòng lặp loop\n",
    "for item in a:\n",
    "    if item == 30:\n",
    "        print (\"Sử dụng pp FOR: 30 có tồn tại trong list\")\n",
    "##CÁCH 2: SỬ DỤNG \"IN\":\n",
    "if 30 in a:\n",
    "    print (\"sử dụng pp IN: 30 có tồn tại trong list\")\n",
    "else:\n",
    "    print (\"sử dụng pp IN: 30 không tồn tại trong list\")\n",
    "##CÁCH 3: sử dụng pp count\n",
    "if a.count (30) > 0:  ## var_name.count (phần tử mà ta muốn tìm trong list được đặt tên là var_name)==> kết quả trả \n",
    "                        ## là số lần xuất hiện của phần tử đó (> 0), nếu không có thì <0\n",
    "    print (\"sử dụng pp COUNT: 30 có tồn tại trong list\")\n",
    "else:\n",
    "    print (\"sử dụng pp COUNT: 30 không tồn tại trong list\")"
   ]
  },
  {
   "cell_type": "markdown",
   "metadata": {},
   "source": [
    "### Xóa phần tử khỏi list: CHỈ xoá 1 PHẦN TỬ trong list"
   ]
  },
  {
   "cell_type": "code",
   "execution_count": 3,
   "metadata": {},
   "outputs": [
    {
     "name": "stdout",
     "output_type": "stream",
     "text": [
      "50\n",
      "[10, 20, 30, 40]\n",
      "==============\n",
      "cá\n",
      "['chim', 'thú']\n"
     ]
    }
   ],
   "source": [
    "#pop sẽ xoá phần tử CUỐI CÙNG ra khỏi list và return giá trị vừa xoá: list_name.pop (vị trí được chỉ định)\n",
    "a = [10, 20, 30, 40, 50]\n",
    "print (a.pop()) ### nếu ta k khai báo vị trí được chỉ định thì mặc định máy sẽ hiểu xoá phần tử CUỐI CÙNG\n",
    "print (a)\n",
    "print (\"==============\")\n",
    "\n",
    "b = [\"chim\",\"cá\", \"thú\"]\n",
    "print (b.pop(1))\n",
    "print (b)\n"
   ]
  },
  {
   "cell_type": "code",
   "execution_count": 4,
   "metadata": {},
   "outputs": [
    {
     "name": "stdout",
     "output_type": "stream",
     "text": [
      "[20, 30, 40, 50]\n"
     ]
    }
   ],
   "source": [
    "#del sẽ xoá phần tử tại vị trí CHỈ ĐỊNH khỏi list và KHÔNG có return\n",
    "a = [10, 20, 30, 40, 50]\n",
    "\n",
    "del a[0]\n",
    "print (a)"
   ]
  },
  {
   "cell_type": "markdown",
   "metadata": {},
   "source": [
    "### Sắp xếp list"
   ]
  },
  {
   "cell_type": "code",
   "execution_count": 13,
   "metadata": {},
   "outputs": [
    {
     "name": "stdout",
     "output_type": "stream",
     "text": [
      "[1, 2, 4, 8, 9]\n",
      "[9, 8, 4, 2, 1]\n",
      "--------------\n",
      "[55, 43, 33, 11]\n",
      "[11, 33, 55, 43]\n"
     ]
    }
   ],
   "source": [
    "a = [1,4,2,8,9]\n",
    "#sort: sẽ thực hiện sx lại list và làm thay đổi TRỰC TIẾP thứ tự của các element trong list\n",
    "##mặc định là xếp theo thứ tự BÉ đến LỚN\n",
    "a.sort ()\n",
    "print (a)\n",
    "#nếu muốn sắp xếp theo quy tắc từ LỚN đến BÉ thì ta thêm tham số resever=True\n",
    "a.sort (reverse=True)\n",
    "print (a)\n",
    "print ('--------------')\n",
    "#sorted: sẽ thực hiện sx lại list và KHÔNG làm thay đổi thứ tự của các element trong list\n",
    "##mặc định là xếp theo thứ tự BÉ đến LỚN\n",
    "b = [11,33,55,43]\n",
    "print (sorted (b,reverse=True))\n",
    "print (b) ## sao khi sorted, các element trong list b không hề thay đổi ví trí"
   ]
  },
  {
   "cell_type": "markdown",
   "metadata": {},
   "source": [
    "### Làm rỗng list"
   ]
  },
  {
   "cell_type": "code",
   "execution_count": 5,
   "metadata": {},
   "outputs": [
    {
     "name": "stdout",
     "output_type": "stream",
     "text": [
      "List a trước khi clear\n",
      "[1, 2]\n",
      "List a sau khi clear\n",
      "[]\n"
     ]
    }
   ],
   "source": [
    "#clear\n",
    "a = [1,2]\n",
    "print (\"List a trước khi clear:\")\n",
    "print (a)\n",
    "print (\"List a sau khi clear:\")\n",
    "a.clear ()\n",
    "print (a)"
   ]
  },
  {
   "cell_type": "markdown",
   "metadata": {},
   "source": [
    "### Copy list"
   ]
  },
  {
   "cell_type": "code",
   "execution_count": 9,
   "metadata": {},
   "outputs": [
    {
     "name": "stdout",
     "output_type": "stream",
     "text": [
      "Gía trị của list a: [1, 2, 3]\n",
      "Gía trị của list b: [1, 2, 3]\n",
      "Gía trị của list a sau xử lý append: [1, 2, 3, 10]\n",
      "Gía trị của list b sau xử lý append: [1, 2, 3, 10]\n",
      "============================================\n",
      "Gía trị của list c: [5, 6, 7]\n",
      "Gía trị của list d: [5, 6, 7]\n",
      "Gía trị của list c sau xử lý append: [5, 6, 7, 0]\n",
      "Gía trị của list d sau xử lý append: [5, 6, 7]\n"
     ]
    }
   ],
   "source": [
    "# copy \n",
    "a = [1,2,3]\n",
    "print (f\"Gía trị của list a: {a}\")\n",
    "\n",
    "b = a\n",
    "print (f\"Gía trị của list b: {b}\")\n",
    "\n",
    "#bây giờ ta muốn thêm vào gía trị mới vào list a\n",
    "a.append (10)\n",
    "print (f\"Gía trị của list a sau xử lý append: {a}\")\n",
    "print (f\"Gía trị của list b sau xử lý append: {b}\")\n",
    "## một điều k mong muốn xảy ra là: mặc dù ta chỉ append list a, nhưng list b cũng bị thay đổi !!!!\n",
    "\n",
    "print (\"============================================\")\n",
    "c = [5,6,7]\n",
    "d = c.copy ()\n",
    "print (f\"Gía trị của list c: {c}\")\n",
    "print (f\"Gía trị của list d: {d}\")\n",
    "\n",
    "c.append (0)\n",
    "print (f\"Gía trị của list c sau xử lý append: {c}\")\n",
    "print (f\"Gía trị của list d sau xử lý append: {d}\")"
   ]
  },
  {
   "cell_type": "markdown",
   "metadata": {},
   "source": [
    "## tuple: \n",
    "một kiểu data KHÔNG THỂ THAY ĐỔI GIÁ TRỊ sau khi Khai báo."
   ]
  },
  {
   "cell_type": "code",
   "execution_count": 17,
   "metadata": {},
   "outputs": [
    {
     "name": "stdout",
     "output_type": "stream",
     "text": [
      "<class 'tuple'>\n",
      "5\n",
      "(1, 2, 3, True, 'hello')\n",
      "3\n",
      "============================================\n",
      "(1, 2, 3)\n",
      "============================================\n",
      "My name is Giang. My course is python\n",
      "============================================\n",
      "1988 nữ\n"
     ]
    }
   ],
   "source": [
    "a = (1,2,3, True, \"hello\")\n",
    "print (type (a))\n",
    "print (len(a))\n",
    "print (a)\n",
    "print (a[2])\n",
    "print (\"============================================\")\n",
    "\n",
    "#tạo tuple từ list\n",
    "tuple1 = tuple ([1,2,3])\n",
    "print (tuple1)\n",
    "\n",
    "print (\"============================================\")\n",
    "\n",
    "#unpacking in a tuple\n",
    "\n",
    "info = (\"Giang\", \"python\")\n",
    "name, course = info  ##note: biến name và biến course phải đặt đúng VỊ TRÍ với giá trị trong tuple \"info\"\n",
    "\n",
    "print (f\"My name is {name}. My course is {course}\")\n",
    "\n",
    "\n",
    "print (\"============================================\")\n",
    "\n",
    "#unpacking in list\n",
    "\n",
    "thong_tin = [1988, \"nữ\"]\n",
    "num1, num2 = thong_tin\n",
    "print (num1, num2)\n"
   ]
  }
 ],
 "metadata": {
  "kernelspec": {
   "display_name": "Python 3 (ipykernel)",
   "language": "python",
   "name": "python3"
  },
  "language_info": {
   "codemirror_mode": {
    "name": "ipython",
    "version": 3
   },
   "file_extension": ".py",
   "mimetype": "text/x-python",
   "name": "python",
   "nbconvert_exporter": "python",
   "pygments_lexer": "ipython3",
   "version": "3.9.6"
  }
 },
 "nbformat": 4,
 "nbformat_minor": 4
}

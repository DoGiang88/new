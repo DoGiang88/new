{
 "cells": [
  {
   "cell_type": "code",
   "execution_count": 1,
   "id": "eacc4b28",
   "metadata": {},
   "outputs": [],
   "source": [
    "import turtle\n",
    "p= turtle.Turtle ()\n",
    "p.speed (10)\n",
    "facesize = 200\n",
    "eyesize = 20\n",
    "mouthsize = 70\n",
    "nose = 40\n",
    "p.penup ()\n",
    "p.goto (0,-100)\n",
    "p.pensize (5)\n",
    "p.pendown ()\n",
    "p.circle (facesize)\n",
    "\n",
    "#draw the mouth\n",
    "p.penup ()\n",
    "p.goto (-70,20)\n",
    "p.rt (90)\n",
    "p.pendown ()\n",
    "p.begin_fill ()\n",
    "p.fillcolor (\"#ECEF50\")\n",
    "p.circle (mouthsize,180)\n",
    "p.left (90)\n",
    "p.fd (mouthsize*2)\n",
    "p.end_fill ()\n",
    "\n",
    "#draw left eye\n",
    "p.penup ()\n",
    "p.goto (-80,170)\n",
    "p.pendown ()\n",
    "p.pensize (2)\n",
    "p.begin_fill ()\n",
    "p.pencolor (\"#0C6F0C\")\n",
    "p.fillcolor (\"#E7F69A\")\n",
    "p.circle (eyesize)\n",
    "p.end_fill ()\n",
    "\n",
    "#draw right eye\n",
    "p.penup ()\n",
    "p.goto (80,170)\n",
    "p.pendown ()\n",
    "p.pensize (2)\n",
    "p.begin_fill ()\n",
    "p.pencolor (\"#0C6F0C\")\n",
    "p.fillcolor (\"#E7F69A\")\n",
    "p.circle (eyesize)\n",
    "p.end_fill ()\n",
    "\n",
    "#draw nose\n",
    "p.penup ()\n",
    "p.goto (0,150)\n",
    "p.pendown ()\n",
    "p.pensize (2)\n",
    "p.pencolor (\"black\")\n",
    "p.circle (nose, steps = 3)\n",
    "\n",
    "turtle.done ()"
   ]
  },
  {
   "cell_type": "code",
   "execution_count": null,
   "id": "6985562d",
   "metadata": {},
   "outputs": [],
   "source": []
  }
 ],
 "metadata": {
  "kernelspec": {
   "display_name": "Python 3 (ipykernel)",
   "language": "python",
   "name": "python3"
  },
  "language_info": {
   "codemirror_mode": {
    "name": "ipython",
    "version": 3
   },
   "file_extension": ".py",
   "mimetype": "text/x-python",
   "name": "python",
   "nbconvert_exporter": "python",
   "pygments_lexer": "ipython3",
   "version": "3.9.6"
  }
 },
 "nbformat": 4,
 "nbformat_minor": 5
}

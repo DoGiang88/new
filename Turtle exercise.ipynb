{
 "cells": [
  {
   "cell_type": "code",
   "execution_count": null,
   "id": "0a666fdc",
   "metadata": {},
   "outputs": [],
   "source": [
    "import turtle\n",
    "star = turtle.Turtle()\n",
    "\n",
    "for i in range(5):\n",
    "    \n",
    "    star.forward(500)\n",
    "    star.right(144)\n",
    "     \n",
    "turtle.done()"
   ]
  },
  {
   "cell_type": "code",
   "execution_count": null,
   "id": "0410a994",
   "metadata": {},
   "outputs": [],
   "source": [
    "#how to draw a circle\n",
    "\n",
    "import turtle\n",
    "pen=turtle.Turtle ()\n",
    "\n",
    "#first method\n",
    "turtle.pensize (5)\n",
    "turtle.pencolor (\"green\")\n",
    "turtle.dot (200)\n",
    "turtle.done\n",
    "\n",
    "\n",
    "\n",
    "#sencond method\n",
    "turtle.pensize (5)\n",
    "turtle.pencolor (\"green\")\n",
    "turtle.fillcolor (\"yellow\")\n",
    "turtle.begin_fill ()\n",
    "turtle.circle (200)\n",
    "turtle.end_fill ()\n",
    "turtle.done"
   ]
  },
  {
   "cell_type": "code",
   "execution_count": null,
   "id": "3d724610",
   "metadata": {},
   "outputs": [],
   "source": [
    "#change the colour of the screen in Turtle\n",
    "import turtle\n",
    "scr = turtle.Screen ()\n",
    "scr.bgcolor (\"red\")\n",
    "t = turtle.Turtle ()\n",
    "t.shape (\"triangle\")"
   ]
  },
  {
   "cell_type": "code",
   "execution_count": null,
   "id": "83711c0f",
   "metadata": {
    "scrolled": true
   },
   "outputs": [],
   "source": [
    "#practice turtle: drawing a rectangle\n",
    "import turtle\n",
    "t =turtle.Turtle ()\n",
    "t.pensize (5)\n",
    "t.pencolor (\"green\")\n",
    "t.filcolor (\"#FF5733\")\n",
    "t.begin_fill ()\n",
    "t.forward (200)\n",
    "t.lt (90)\n",
    "t.fd (100)\n",
    "t.lt (90)\n",
    "t.fd (200)\n",
    "t.lt (90)\n",
    "t.fd (100)\n",
    "turtle.end_fil ()\n",
    "turtle.done ()"
   ]
  },
  {
   "cell_type": "code",
   "execution_count": null,
   "id": "e27af014",
   "metadata": {},
   "outputs": [],
   "source": [
    "#practice turtle: drawing a house, a sun and a tree\n",
    "\n",
    "import turtle\n",
    "p = turtle.Turtle ()\n",
    "p.penup ()\n",
    "p.goto (100,100)\n",
    "p.pendown ()\n",
    "p.pencolor (\"orange\")\n",
    "p.fillcolor (\"#FBFAB4\")\n",
    "p.begin_fill ()\n",
    "p.circle (30)\n",
    "p.end_fill ()\n",
    "turtle.done ()"
   ]
  },
  {
   "cell_type": "code",
   "execution_count": null,
   "id": "f9605822",
   "metadata": {},
   "outputs": [],
   "source": [
    "p.up ()\n",
    "p.fd (25)\n",
    "p.down ()\n",
    "p.fd (15)\n",
    "p.goto (100,100)\n",
    "p.rt ()\n",
    "p.up ()\n",
    "p.fd (25)\n",
    "p.down ()\n",
    "p.fd (15)\n",
    "p.goto (100,100)"
   ]
  }
 ],
 "metadata": {
  "kernelspec": {
   "display_name": "Python 3 (ipykernel)",
   "language": "python",
   "name": "python3"
  },
  "language_info": {
   "codemirror_mode": {
    "name": "ipython",
    "version": 3
   },
   "file_extension": ".py",
   "mimetype": "text/x-python",
   "name": "python",
   "nbconvert_exporter": "python",
   "pygments_lexer": "ipython3",
   "version": "3.9.6"
  }
 },
 "nbformat": 4,
 "nbformat_minor": 5
}

{
 "cells": [
  {
   "cell_type": "code",
   "execution_count": null,
   "id": "0a666fdc",
   "metadata": {},
   "outputs": [],
   "source": [
    "import turtle\n",
    "star = turtle.Turtle()\n",
    "\n",
    "for i in range(5):\n",
    "    \n",
    "    star.forward(500)\n",
    "    star.right(144)\n",
    "     \n",
    "turtle.done()"
   ]
  },
  {
   "cell_type": "code",
   "execution_count": 4,
   "id": "0410a994",
   "metadata": {},
   "outputs": [
    {
     "data": {
      "text/plain": [
       "<function turtle.mainloop()>"
      ]
     },
     "execution_count": 4,
     "metadata": {},
     "output_type": "execute_result"
    }
   ],
   "source": [
    "#how to draw a circle\n",
    "\n",
    "import turtle\n",
    "pen=turtle.Turtle ()\n",
    "\n",
    "#first method\n",
    "turtle.pensize (5)\n",
    "turtle.pencolor (\"green\")\n",
    "turtle.dot (200)\n",
    "turtle.done\n",
    "\n",
    "\n",
    "\n",
    "#sencond method\n",
    "turtle.pensize (5)\n",
    "turtle.pencolor (\"green\")\n",
    "turtle.fillcolor (\"yellow\")\n",
    "turtle.begin_fill ()\n",
    "turtle.circle (200)\n",
    "turtle.end_fill ()\n",
    "turtle.done"
   ]
  },
  {
   "cell_type": "code",
   "execution_count": 3,
   "id": "3d724610",
   "metadata": {},
   "outputs": [],
   "source": [
    "#change the colour of the screen in Turtle\n",
    "import turtle\n",
    "scr = turtle.Screen ()\n",
    "scr.bgcolor (\"red\")\n",
    "t = turtle.Turtle ()\n",
    "t.shape (\"triangle\")"
   ]
  },
  {
   "cell_type": "code",
   "execution_count": 4,
   "id": "83711c0f",
   "metadata": {
    "scrolled": true
   },
   "outputs": [
    {
     "ename": "AttributeError",
     "evalue": "module 'turtle' has no attribute 'filcolor'",
     "output_type": "error",
     "traceback": [
      "\u001b[0;31m---------------------------------------------------------------------------\u001b[0m",
      "\u001b[0;31mAttributeError\u001b[0m                            Traceback (most recent call last)",
      "\u001b[0;32m/var/folders/nc/ttqcyj6s46n0fx4kv5dj7z0c0000gn/T/ipykernel_2386/21151779.py\u001b[0m in \u001b[0;36m<module>\u001b[0;34m\u001b[0m\n\u001b[1;32m      4\u001b[0m \u001b[0mturtle\u001b[0m\u001b[0;34m.\u001b[0m\u001b[0mpensize\u001b[0m \u001b[0;34m(\u001b[0m\u001b[0;36m5\u001b[0m\u001b[0;34m)\u001b[0m\u001b[0;34m\u001b[0m\u001b[0;34m\u001b[0m\u001b[0m\n\u001b[1;32m      5\u001b[0m \u001b[0mturtle\u001b[0m\u001b[0;34m.\u001b[0m\u001b[0mpencolor\u001b[0m \u001b[0;34m(\u001b[0m\u001b[0;34m\"green\"\u001b[0m\u001b[0;34m)\u001b[0m\u001b[0;34m\u001b[0m\u001b[0;34m\u001b[0m\u001b[0m\n\u001b[0;32m----> 6\u001b[0;31m \u001b[0mturtle\u001b[0m\u001b[0;34m.\u001b[0m\u001b[0mfilcolor\u001b[0m \u001b[0;34m(\u001b[0m\u001b[0;34m\"#FF5733\"\u001b[0m\u001b[0;34m)\u001b[0m\u001b[0;34m\u001b[0m\u001b[0;34m\u001b[0m\u001b[0m\n\u001b[0m\u001b[1;32m      7\u001b[0m \u001b[0mturtle\u001b[0m\u001b[0;34m.\u001b[0m\u001b[0mbegin_fill\u001b[0m \u001b[0;34m(\u001b[0m\u001b[0;34m)\u001b[0m\u001b[0;34m\u001b[0m\u001b[0;34m\u001b[0m\u001b[0m\n\u001b[1;32m      8\u001b[0m \u001b[0mturtle\u001b[0m\u001b[0;34m.\u001b[0m\u001b[0mforward\u001b[0m \u001b[0;34m(\u001b[0m\u001b[0;36m200\u001b[0m\u001b[0;34m)\u001b[0m\u001b[0;34m\u001b[0m\u001b[0;34m\u001b[0m\u001b[0m\n",
      "\u001b[0;31mAttributeError\u001b[0m: module 'turtle' has no attribute 'filcolor'"
     ]
    }
   ],
   "source": [
    "#practice turtle: drawing a rectangle\n",
    "import turtle\n",
    "t =turtle.Turtle ()\n",
    "t.pensize (5)\n",
    "t.pencolor (\"green\")\n",
    "t.filcolor (\"#FF5733\")\n",
    "t.begin_fill ()\n",
    "t.forward (200)\n",
    "t.lt (90)\n",
    "t.fd (100)\n",
    "t.lt (90)\n",
    "t.fd (200)\n",
    "t.lt (90)\n",
    "t.fd (100)\n",
    "turtle.end_fil\n",
    "turtle.done"
   ]
  },
  {
   "cell_type": "code",
   "execution_count": null,
   "id": "e27af014",
   "metadata": {},
   "outputs": [],
   "source": [
    "#practice turtle: drawing a house, a sun and a tree\n",
    "\n",
    "import turtle\n",
    "p = turtle.Turtle ()\n",
    "p.goto (100,100)\n",
    "p.pencolor (\"#DDDA05\")\n",
    "p.fillcolor (\"#FBFAB4\")\n",
    "p.begin_fill ()\n",
    "p.circle (50)\n",
    "p.end_fill\n",
    "p.up ()\n",
    "p.fd (25)\n",
    "p.down ()\n",
    "p.fd (15)\n",
    "p.goto (100,100)\n",
    "p.rt ()\n",
    "p.up ()\n",
    "p.fd (25)\n",
    "p.down ()\n",
    "p.fd (15)\n",
    "p.goto (100,100)"
   ]
  }
 ],
 "metadata": {
  "kernelspec": {
   "display_name": "Python 3 (ipykernel)",
   "language": "python",
   "name": "python3"
  },
  "language_info": {
   "codemirror_mode": {
    "name": "ipython",
    "version": 3
   },
   "file_extension": ".py",
   "mimetype": "text/x-python",
   "name": "python",
   "nbconvert_exporter": "python",
   "pygments_lexer": "ipython3",
   "version": "3.9.6"
  }
 },
 "nbformat": 4,
 "nbformat_minor": 5
}

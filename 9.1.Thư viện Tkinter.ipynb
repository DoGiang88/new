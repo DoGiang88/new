{
 "cells": [
  {
   "cell_type": "markdown",
   "id": "7637b45d",
   "metadata": {},
   "source": [
    "# Tkinter"
   ]
  },
  {
   "cell_type": "markdown",
   "id": "aef48c70",
   "metadata": {},
   "source": [
    "## Tkinter là gì?\n",
    "Tkinter là thư viện GUI tiêu chuẩn cho Python."
   ]
  },
  {
   "cell_type": "markdown",
   "id": "a555c9c5",
   "metadata": {},
   "source": [
    "## Các bước tạo ứng dụng Tkinter\n",
    "**Bước 1:** Import Tkinter module\n",
    "\n",
    "**Bước 2:** Tạo ra cửa số chính cho ứng dụng \n",
    "\n",
    "**Bước 3:** Thêm một số widget cho ứng dụng\n",
    "\n",
    "**Bước 4:** Tạo vòng lặp sự kiện chính để các hành động có thể diễn ra trên màn hình máy tính của người dùng\n"
   ]
  },
  {
   "cell_type": "markdown",
   "id": "f5a0f4e8",
   "metadata": {},
   "source": [
    "# Bước 1: Import Tkinter module"
   ]
  },
  {
   "cell_type": "code",
   "execution_count": 1,
   "id": "28a5f795",
   "metadata": {},
   "outputs": [],
   "source": [
    "import tkinter\n",
    "from tkinter import*"
   ]
  },
  {
   "cell_type": "markdown",
   "id": "27f1704a",
   "metadata": {},
   "source": [
    "## Bước 2: Tạo ra cửa số cho ứng dụng"
   ]
  },
  {
   "cell_type": "code",
   "execution_count": 2,
   "id": "3063eaa3",
   "metadata": {},
   "outputs": [
    {
     "data": {
      "text/plain": [
       "''"
      ]
     },
     "execution_count": 2,
     "metadata": {},
     "output_type": "execute_result"
    }
   ],
   "source": [
    "windows = Tk ()  ## lệnh để tạo cửa số ứng dụng, nhưng người dùng chưa sử dụng được\n",
    "windows.title (\"HGiang's application\") ## đổi tên window của ứng dụng\n"
   ]
  },
  {
   "cell_type": "markdown",
   "id": "6a7f27d7",
   "metadata": {},
   "source": [
    "## Thêm widget cho ứng dụng"
   ]
  },
  {
   "cell_type": "code",
   "execution_count": 3,
   "id": "396c5f84",
   "metadata": {},
   "outputs": [],
   "source": [
    "content = Label (windows, text=\"Hello world\").pack ()\n"
   ]
  },
  {
   "cell_type": "code",
   "execution_count": 4,
   "id": "36edccc5",
   "metadata": {},
   "outputs": [],
   "source": [
    "windows.mainloop ()  ## để chạy ứng dụng được thì ta cần bấm tiếp lệnh sau"
   ]
  },
  {
   "cell_type": "code",
   "execution_count": 1,
   "id": "209b2ece",
   "metadata": {},
   "outputs": [
    {
     "data": {
      "text/plain": [
       "''"
      ]
     },
     "execution_count": 1,
     "metadata": {},
     "output_type": "execute_result"
    }
   ],
   "source": [
    "#khởi tạo cửa sổ tkinter\n",
    "from tkinter import *\n",
    "\n",
    "windows= Tk()\n",
    "windows.title(\"Demo widgets\")"
   ]
  },
  {
   "cell_type": "code",
   "execution_count": 9,
   "id": "957db5e2",
   "metadata": {},
   "outputs": [],
   "source": [
    "windows.mainloop()"
   ]
  },
  {
   "cell_type": "markdown",
   "id": "50cf878f",
   "metadata": {},
   "source": [
    "## label"
   ]
  },
  {
   "cell_type": "code",
   "execution_count": 2,
   "id": "6826b7e0",
   "metadata": {},
   "outputs": [],
   "source": [
    "#bước 1: tạo lable có tên là DEMO widget\n",
    "app_name = Label (windows,text=\"DEMO widget\")\n",
    "#bước 2: dán lable đã tạo ở bước 1 lên Tkinter\n",
    "app_name.pack()"
   ]
  },
  {
   "cell_type": "code",
   "execution_count": 3,
   "id": "1bd6f18a",
   "metadata": {},
   "outputs": [],
   "source": [
    "label_name = Label (windows, text=\"LABEL\").pack()"
   ]
  },
  {
   "cell_type": "code",
   "execution_count": 4,
   "id": "171b9b73",
   "metadata": {},
   "outputs": [],
   "source": [
    "button_name = Label (windows, text=\"BUTTON\").pack()\n",
    "def update_app_name():\n",
    "    app_name.config(text=\"PYTHON fundamental\")\n",
    "    \n",
    "change_text_button = Button (windows, text = \"Click to update text\", command=update_app_name)\n",
    "change_text_button.pack ()"
   ]
  },
  {
   "cell_type": "code",
   "execution_count": 5,
   "id": "870ccacf",
   "metadata": {},
   "outputs": [],
   "source": [
    "ENTRY_name = Label (windows, text=\"ENTRY\").pack()"
   ]
  },
  {
   "cell_type": "markdown",
   "id": "fbf4ab01",
   "metadata": {},
   "source": [
    "## entry"
   ]
  },
  {
   "cell_type": "code",
   "execution_count": 4,
   "id": "a8dea346",
   "metadata": {},
   "outputs": [
    {
     "name": "stderr",
     "output_type": "stream",
     "text": [
      "2021-11-01 21:33:42.898 Python[5225:447313] IMKClient Stall detected, *please Report* your user scenario attaching a spindump (or sysdiagnose) that captures the problem - (imkxpc_presentFunctionRowItemTextInputViewWithEndpoint:reply:) block performed very slowly (2.11 secs).\n"
     ]
    }
   ],
   "source": [
    "from tkinter import *\n",
    "\n",
    "win = Tk()\n",
    "win.title (\"HGiang's application\")\n",
    "win2 = Label(win, text=\"Nhập Liệu\",bg=\"red\")\n",
    "win2.pack( side = LEFT)\n",
    "E1 = Entry(win, bd =3)\n",
    "E1.pack(side = RIGHT)\n",
    "\n",
    "win.mainloop()"
   ]
  },
  {
   "cell_type": "code",
   "execution_count": 6,
   "id": "4f861cb7",
   "metadata": {},
   "outputs": [],
   "source": [
    "entry_text = Label (windows, text = \"Entry\")\n",
    "entry_text.pack ()"
   ]
  },
  {
   "cell_type": "code",
   "execution_count": 7,
   "id": "68acb7eb",
   "metadata": {},
   "outputs": [],
   "source": [
    "number = Entry (windows)\n",
    "number.pack ()"
   ]
  },
  {
   "cell_type": "code",
   "execution_count": null,
   "id": "c47e44ca",
   "metadata": {},
   "outputs": [],
   "source": []
  },
  {
   "cell_type": "code",
   "execution_count": 8,
   "id": "d6185ac8",
   "metadata": {},
   "outputs": [],
   "source": [
    "def update_entry_text ():\n",
    "    entry_text.config(text=number.get())  #number.get() dùng để lấy giá trị của entry_number\n",
    "    \n",
    "update_button = Button (windows, text = \"Click to update value\",command=update_entry_text)\n",
    "update_button.pack()"
   ]
  },
  {
   "cell_type": "markdown",
   "id": "220d3157",
   "metadata": {},
   "source": [
    "## button"
   ]
  },
  {
   "cell_type": "code",
   "execution_count": 34,
   "id": "4376bd13",
   "metadata": {},
   "outputs": [
    {
     "ename": "NameError",
     "evalue": "name 'windows' is not defined",
     "output_type": "error",
     "traceback": [
      "\u001b[0;31m---------------------------------------------------------------------------\u001b[0m",
      "\u001b[0;31mNameError\u001b[0m                                 Traceback (most recent call last)",
      "\u001b[0;32m/var/folders/nc/ttqcyj6s46n0fx4kv5dj7z0c0000gn/T/ipykernel_7909/1710281274.py\u001b[0m in \u001b[0;36m<module>\u001b[0;34m\u001b[0m\n\u001b[1;32m      2\u001b[0m     \u001b[0mapp_name\u001b[0m\u001b[0;34m.\u001b[0m\u001b[0mconfig\u001b[0m\u001b[0;34m(\u001b[0m\u001b[0mtext\u001b[0m\u001b[0;34m=\u001b[0m\u001b[0;34m\"PYTHON fundamental\"\u001b[0m\u001b[0;34m)\u001b[0m\u001b[0;34m\u001b[0m\u001b[0;34m\u001b[0m\u001b[0m\n\u001b[1;32m      3\u001b[0m \u001b[0;34m\u001b[0m\u001b[0m\n\u001b[0;32m----> 4\u001b[0;31m \u001b[0mchange_text_button\u001b[0m \u001b[0;34m=\u001b[0m \u001b[0mButton\u001b[0m \u001b[0;34m(\u001b[0m\u001b[0mwindows\u001b[0m\u001b[0;34m,\u001b[0m \u001b[0mtext\u001b[0m \u001b[0;34m=\u001b[0m \u001b[0;34m\"Click to update text\"\u001b[0m\u001b[0;34m,\u001b[0m \u001b[0mcommand\u001b[0m\u001b[0;34m=\u001b[0m\u001b[0mupdate_app_name\u001b[0m\u001b[0;34m)\u001b[0m\u001b[0;34m\u001b[0m\u001b[0;34m\u001b[0m\u001b[0m\n\u001b[0m\u001b[1;32m      5\u001b[0m \u001b[0mchange_text_button\u001b[0m\u001b[0;34m.\u001b[0m\u001b[0mpack\u001b[0m \u001b[0;34m(\u001b[0m\u001b[0;34m)\u001b[0m\u001b[0;34m\u001b[0m\u001b[0;34m\u001b[0m\u001b[0m\n",
      "\u001b[0;31mNameError\u001b[0m: name 'windows' is not defined"
     ]
    }
   ],
   "source": [
    "def update_app_name():\n",
    "    app_name.config(text=\"PYTHON fundamental\")\n",
    "    \n",
    "change_text_button = Button (windows, text = \"Click to update text\", command=update_app_name)\n",
    "change_text_button.pack ()"
   ]
  },
  {
   "cell_type": "markdown",
   "id": "0d12c6f0",
   "metadata": {},
   "source": [
    "BÀI TẬP THẦY CHO"
   ]
  },
  {
   "cell_type": "code",
   "execution_count": 1,
   "id": "0e7d6600",
   "metadata": {},
   "outputs": [],
   "source": [
    "from tkinter import *\n",
    "\n",
    "win = Tk()\n",
    "win.title (\"Bài tập thầy cho\")\n",
    "num1_text = Label(win, text=\"number1\")\n",
    "num1_text.pack()\n",
    "num1_entry = Entry(win, bd =3)\n",
    "num1_entry.pack()"
   ]
  },
  {
   "cell_type": "code",
   "execution_count": 2,
   "id": "a3f1a658",
   "metadata": {},
   "outputs": [],
   "source": [
    "num2_text = Label(win, text=\"number2\")\n",
    "num2_text.pack()\n",
    "num2_entry = Entry(win, bd =3)\n",
    "num2_entry.pack()"
   ]
  },
  {
   "cell_type": "code",
   "execution_count": null,
   "id": "309a8c45",
   "metadata": {},
   "outputs": [
    {
     "name": "stderr",
     "output_type": "stream",
     "text": [
      "Exception in Tkinter callback\n",
      "Traceback (most recent call last):\n",
      "  File \"/Library/Frameworks/Python.framework/Versions/3.9/lib/python3.9/tkinter/__init__.py\", line 1892, in __call__\n",
      "    return self.func(*args)\n",
      "  File \"/var/folders/nc/ttqcyj6s46n0fx4kv5dj7z0c0000gn/T/ipykernel_8145/1341131798.py\", line 5, in update_plus\n",
      "    result.config (float(num1_entry)+float(num2_entry))\n",
      "TypeError: float() argument must be a string or a number, not 'Entry'\n"
     ]
    }
   ],
   "source": [
    "\n",
    "def update_plus():\n",
    "    result.config (float(num1_entry)+float(num2_entry))\n",
    "plus_name = Button(win, text=\"+\",command=update_plus)\n",
    "plus_name.pack()\n",
    "\n",
    "sub_name = Button(win, text=\"-\",bd=4).pack()\n",
    "mul_name = Button(win, text=\"*\",bd=4).pack()\n",
    "di_name = Button(win, text=\"/\",bd=4).pack()\n",
    "    \n",
    "result = Label (win,text=\"Result:\")\n",
    "result.pack()\n",
    "\n",
    "win.mainloop()"
   ]
  },
  {
   "cell_type": "markdown",
   "id": "8bd06b13",
   "metadata": {},
   "source": [
    "## combobox"
   ]
  },
  {
   "cell_type": "code",
   "execution_count": null,
   "id": "9fe245a2",
   "metadata": {},
   "outputs": [],
   "source": []
  },
  {
   "cell_type": "code",
   "execution_count": null,
   "id": "74694770",
   "metadata": {},
   "outputs": [],
   "source": []
  },
  {
   "cell_type": "markdown",
   "id": "f5203893",
   "metadata": {},
   "source": [
    "## text"
   ]
  },
  {
   "cell_type": "code",
   "execution_count": null,
   "id": "f822f455",
   "metadata": {},
   "outputs": [],
   "source": []
  },
  {
   "cell_type": "markdown",
   "id": "7b58544c",
   "metadata": {},
   "source": [
    "## messagebox"
   ]
  },
  {
   "cell_type": "code",
   "execution_count": null,
   "id": "d721e682",
   "metadata": {},
   "outputs": [],
   "source": []
  },
  {
   "cell_type": "markdown",
   "id": "eebac94e",
   "metadata": {},
   "source": [
    "## checkbutton"
   ]
  },
  {
   "cell_type": "code",
   "execution_count": null,
   "id": "1e534acb",
   "metadata": {},
   "outputs": [],
   "source": []
  }
 ],
 "metadata": {
  "kernelspec": {
   "display_name": "Python 3 (ipykernel)",
   "language": "python",
   "name": "python3"
  },
  "language_info": {
   "codemirror_mode": {
    "name": "ipython",
    "version": 3
   },
   "file_extension": ".py",
   "mimetype": "text/x-python",
   "name": "python",
   "nbconvert_exporter": "python",
   "pygments_lexer": "ipython3",
   "version": "3.9.6"
  }
 },
 "nbformat": 4,
 "nbformat_minor": 5
}

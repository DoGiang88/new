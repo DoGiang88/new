{
 "cells": [
  {
   "cell_type": "markdown",
   "id": "9ee42003",
   "metadata": {},
   "source": [
    "# CHUYỂN ĐỔI NHIỆT ĐỘ"
   ]
  },
  {
   "cell_type": "code",
   "execution_count": 3,
   "id": "dfab67b7",
   "metadata": {},
   "outputs": [
    {
     "name": "stdout",
     "output_type": "stream",
     "text": [
      "Nhập độ C mà bạn muốn chuyển đổi: 37\n",
      "37.0 độ C tương ứng với 98.6 độ F\n"
     ]
    }
   ],
   "source": [
    "nhietdo_c = float(input(\"Nhập độ C mà bạn muốn chuyển đổi: \"))\n",
    "\n",
    "f = (9*(int(nhietdo_c))/5)+32\n",
    "\n",
    "print (f\"{nhietdo_c} độ C tương ứng với {f} độ F\")"
   ]
  },
  {
   "cell_type": "markdown",
   "id": "92091e7d",
   "metadata": {},
   "source": [
    "# TÍNH DIỆN TÍCH TAM GIÁC"
   ]
  },
  {
   "cell_type": "code",
   "execution_count": 10,
   "id": "4ad5d46a",
   "metadata": {},
   "outputs": [
    {
     "name": "stdout",
     "output_type": "stream",
     "text": [
      "Nhập chiều dài cạnh 1: 7\n",
      "Nhập chiều dài cạnh 2: 8\n",
      "Nhập chiều dài cạnh 3: 9\n",
      "Diện tích của tam giác này là 26.83 -- Chu vi là 12.0\n"
     ]
    }
   ],
   "source": [
    "import math\n",
    "\n",
    "canh1 = float(input(\"Nhập chiều dài cạnh 1: \"))\n",
    "canh2 = float(input(\"Nhập chiều dài cạnh 2: \"))\n",
    "canh3 = float(input(\"Nhập chiều dài cạnh 3: \"))\n",
    "\n",
    "p = round((canh1 + canh2 + canh3)/2,2)\n",
    "s = round(math.sqrt (p * (p - canh1) * (p - canh2) * (p - canh3)),2)  #tính s theo công thức Heron\n",
    "\n",
    "print (f\"Diện tích của tam giác này là {s} -- Chu vi là {p}\")"
   ]
  },
  {
   "cell_type": "raw",
   "id": "405febad",
   "metadata": {},
   "source": [
    "CHUYỂN ĐỔI TỶ GIÁ"
   ]
  },
  {
   "cell_type": "code",
   "execution_count": 1,
   "id": "259edad3",
   "metadata": {
    "scrolled": false
   },
   "outputs": [
    {
     "name": "stdout",
     "output_type": "stream",
     "text": [
      "Nhập số tiền USD bạn muốn đổi: 50\n"
     ]
    }
   ],
   "source": [
    "usd = int(input(\"Nhập số tiền USD bạn muốn đổi: \"))"
   ]
  },
  {
   "cell_type": "code",
   "execution_count": 2,
   "id": "ac637c57",
   "metadata": {},
   "outputs": [
    {
     "name": "stdout",
     "output_type": "stream",
     "text": [
      "Nhập tỷ giá USD/VND hiện tại: 21000\n"
     ]
    }
   ],
   "source": [
    "ex = int(input(\"Nhập tỷ giá USD/VND hiện tại: \"))"
   ]
  },
  {
   "cell_type": "code",
   "execution_count": 6,
   "id": "b2c29bb4",
   "metadata": {},
   "outputs": [],
   "source": [
    "tongtien = usd * ex"
   ]
  },
  {
   "cell_type": "code",
   "execution_count": 7,
   "id": "8416abe1",
   "metadata": {},
   "outputs": [
    {
     "name": "stdout",
     "output_type": "stream",
     "text": [
      "Tổng số tiền chuyển đổi: 1050000\n"
     ]
    }
   ],
   "source": [
    "print (f\"Tổng số tiền chuyển đổi: {tongtien}\" )"
   ]
  },
  {
   "cell_type": "markdown",
   "id": "b8d4ce84",
   "metadata": {},
   "source": [
    "# Tính chu vi và diện tích hình tròn"
   ]
  },
  {
   "cell_type": "code",
   "execution_count": 1,
   "id": "9c9b903b",
   "metadata": {},
   "outputs": [
    {
     "name": "stdout",
     "output_type": "stream",
     "text": [
      "Nhập bán kính hình tròn: 12\n"
     ]
    }
   ],
   "source": [
    "#Bước 1: nhập bán kính circle\n",
    "bankinh = int(input(\"Nhập bán kính hình tròn: \"))"
   ]
  },
  {
   "cell_type": "code",
   "execution_count": 2,
   "id": "769b1f82",
   "metadata": {},
   "outputs": [
    {
     "name": "stdout",
     "output_type": "stream",
     "text": [
      "Chu vi hình tròn là: 75.4\n",
      "Diện tích hình tròn là: 452.39\n"
     ]
    }
   ],
   "source": [
    "#Bước 2: tính chu vi và diện tích circle dựa trên biến bán kính vừa tạo\n",
    "from math import pi\n",
    "##kết hợp hàm round làm tròn lấy 2 chữ số thập phân\n",
    "chuvi = round(pi * 2 * bankinh,2)\n",
    "dientich = round(pi * bankinh * bankinh,2)\n",
    "\n",
    "print (f\"Chu vi hình tròn là: {chuvi}\")\n",
    "print (f\"Diện tích hình tròn là: {dientich}\")"
   ]
  },
  {
   "cell_type": "markdown",
   "id": "86301c1f",
   "metadata": {},
   "source": [
    "# Draw a circle"
   ]
  },
  {
   "cell_type": "code",
   "execution_count": null,
   "id": "162d03d4",
   "metadata": {},
   "outputs": [],
   "source": [
    "import turtle\n",
    "p = turtle.Turtle ()\n",
    "p.circle (bankinh)\n",
    "turtle.done()"
   ]
  }
 ],
 "metadata": {
  "kernelspec": {
   "display_name": "Python 3 (ipykernel)",
   "language": "python",
   "name": "python3"
  },
  "language_info": {
   "codemirror_mode": {
    "name": "ipython",
    "version": 3
   },
   "file_extension": ".py",
   "mimetype": "text/x-python",
   "name": "python",
   "nbconvert_exporter": "python",
   "pygments_lexer": "ipython3",
   "version": "3.9.6"
  }
 },
 "nbformat": 4,
 "nbformat_minor": 5
}

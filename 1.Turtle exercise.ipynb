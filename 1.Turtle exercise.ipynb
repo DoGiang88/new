{
 "cells": [
  {
   "cell_type": "code",
   "execution_count": null,
   "id": "0a666fdc",
   "metadata": {},
   "outputs": [],
   "source": [
    "import turtle\n",
    "star = turtle.Turtle()\n",
    "\n",
    "for i in range(5):\n",
    "    \n",
    "    star.forward(500)\n",
    "    star.right(144)\n",
    "     \n",
    "turtle.done()"
   ]
  },
  {
   "cell_type": "code",
   "execution_count": 11,
   "id": "0410a994",
   "metadata": {},
   "outputs": [
    {
     "ename": "AttributeError",
     "evalue": "'Turtle' object has no attribute 'done'",
     "output_type": "error",
     "traceback": [
      "\u001b[0;31m---------------------------------------------------------------------------\u001b[0m",
      "\u001b[0;31mAttributeError\u001b[0m                            Traceback (most recent call last)",
      "\u001b[0;32m/var/folders/nc/ttqcyj6s46n0fx4kv5dj7z0c0000gn/T/ipykernel_2233/2569337834.py\u001b[0m in \u001b[0;36m<module>\u001b[0;34m\u001b[0m\n\u001b[1;32m      8\u001b[0m \u001b[0mpen\u001b[0m\u001b[0;34m.\u001b[0m\u001b[0mpencolor\u001b[0m \u001b[0;34m(\u001b[0m\u001b[0;34m\"green\"\u001b[0m\u001b[0;34m)\u001b[0m\u001b[0;34m\u001b[0m\u001b[0;34m\u001b[0m\u001b[0m\n\u001b[1;32m      9\u001b[0m \u001b[0mpen\u001b[0m\u001b[0;34m.\u001b[0m\u001b[0mdot\u001b[0m \u001b[0;34m(\u001b[0m\u001b[0;36m200\u001b[0m\u001b[0;34m)\u001b[0m\u001b[0;34m\u001b[0m\u001b[0;34m\u001b[0m\u001b[0m\n\u001b[0;32m---> 10\u001b[0;31m \u001b[0mpen\u001b[0m\u001b[0;34m.\u001b[0m\u001b[0mdone\u001b[0m \u001b[0;34m(\u001b[0m\u001b[0;34m)\u001b[0m\u001b[0;34m\u001b[0m\u001b[0;34m\u001b[0m\u001b[0m\n\u001b[0m",
      "\u001b[0;31mAttributeError\u001b[0m: 'Turtle' object has no attribute 'done'"
     ]
    }
   ],
   "source": [
    "#how to draw a circle\n",
    "\n",
    "import turtle\n",
    "pen=turtle.Turtle ()\n",
    "\n",
    "#first method using dot_command\n",
    "pen.pensize (5)\n",
    "pen.pencolor (\"green\")\n",
    "pen.dot (200)\n",
    "pen.done ()\n"
   ]
  },
  {
   "cell_type": "code",
   "execution_count": 14,
   "id": "5acdfc10",
   "metadata": {},
   "outputs": [],
   "source": [
    "#how to draw a circle\n",
    "\n",
    "#2nd method using circle_command\n",
    "import turtle\n",
    "pen=turtle.Turtle ()\n",
    "#sencond method\n",
    "pen.pensize (5)\n",
    "pen.pencolor (\"green\")\n",
    "pen.fillcolor (\"yellow\")\n",
    "pen.begin_fill ()\n",
    "pen.circle (200)\n",
    "pen.end_fill ()\n",
    "turtle.done ()"
   ]
  },
  {
   "cell_type": "code",
   "execution_count": null,
   "id": "3d724610",
   "metadata": {},
   "outputs": [],
   "source": [
    "#change the colour of the screen in Turtle\n",
    "import turtle\n",
    "scr = turtle.Screen ()\n",
    "scr.bgcolor (\"red\")\n",
    "t = turtle.Turtle ()\n",
    "t.shape (\"triangle\")"
   ]
  },
  {
   "cell_type": "code",
   "execution_count": null,
   "id": "83711c0f",
   "metadata": {
    "scrolled": true
   },
   "outputs": [],
   "source": [
    "#practice turtle: drawing a rectangle\n",
    "import turtle\n",
    "t =turtle.Turtle ()\n",
    "t.pensize (5)\n",
    "t.pencolor (\"green\")\n",
    "t.fillcolor (\"yellow\")\n",
    "t.begin_fill ()\n",
    "t.forward (200)\n",
    "t.lt (90)\n",
    "t.fd (100)\n",
    "t.lt (90)\n",
    "t.fd (200)\n",
    "t.lt (90)\n",
    "t.fd (100)\n",
    "turtle.end_fill ()\n",
    "turtle.done ()"
   ]
  },
  {
   "cell_type": "code",
   "execution_count": null,
   "id": "f9605822",
   "metadata": {},
   "outputs": [],
   "source": []
  }
 ],
 "metadata": {
  "kernelspec": {
   "display_name": "Python 3 (ipykernel)",
   "language": "python",
   "name": "python3"
  },
  "language_info": {
   "codemirror_mode": {
    "name": "ipython",
    "version": 3
   },
   "file_extension": ".py",
   "mimetype": "text/x-python",
   "name": "python",
   "nbconvert_exporter": "python",
   "pygments_lexer": "ipython3",
   "version": "3.9.6"
  }
 },
 "nbformat": 4,
 "nbformat_minor": 5
}

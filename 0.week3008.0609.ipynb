{
 "cells": [
  {
   "cell_type": "markdown",
   "id": "e663e627",
   "metadata": {},
   "source": [
    "print (\"私はジャンです\")"
   ]
  },
  {
   "cell_type": "code",
   "execution_count": 2,
   "id": "7c901d88",
   "metadata": {},
   "outputs": [
    {
     "name": "stdout",
     "output_type": "stream",
     "text": [
      "***********************************\n",
      "*Name: Do Giang                   *\n",
      "*Course: Python Fundamental       *\n",
      "*Class: CodeGym                   *\n",
      "***********************************\n"
     ]
    }
   ],
   "source": [
    "print (\"***********************************\")\n",
    "print (\"*Name: Do Giang                   *\")\n",
    "print (\"*Course: Python Fundamental       *\")\n",
    "print (\"*Class: CodeGym                   *\")\n",
    "print (\"***********************************\")"
   ]
  },
  {
   "cell_type": "code",
   "execution_count": 6,
   "id": "33d79d8f",
   "metadata": {},
   "outputs": [
    {
     "name": "stdout",
     "output_type": "stream",
     "text": [
      "<class 'str'>\n"
     ]
    }
   ],
   "source": [
    "# tạo biến mới là số thập phân\n",
    "num = 6.2\n",
    "# tạo biến mới là string\n",
    "job = \"doctor\"\n",
    "# check kiểu dữ liệu của 1 var là gì\n",
    "print (type(job)) "
   ]
  },
  {
   "cell_type": "code",
   "execution_count": 14,
   "id": "33ffdc93",
   "metadata": {},
   "outputs": [
    {
     "ename": "NameError",
     "evalue": "name 'true' is not defined",
     "output_type": "error",
     "traceback": [
      "\u001b[0;31m---------------------------------------------------------------------------\u001b[0m",
      "\u001b[0;31mNameError\u001b[0m                                 Traceback (most recent call last)",
      "\u001b[0;32m/var/folders/nc/ttqcyj6s46n0fx4kv5dj7z0c0000gn/T/ipykernel_2405/3151657921.py\u001b[0m in \u001b[0;36m<module>\u001b[0;34m\u001b[0m\n\u001b[1;32m      1\u001b[0m \u001b[0;31m# biến nhị phân trong Python được gọi là biến bool\u001b[0m\u001b[0;34m\u001b[0m\u001b[0;34m\u001b[0m\u001b[0;34m\u001b[0m\u001b[0m\n\u001b[0;32m----> 2\u001b[0;31m \u001b[0mnhiphan\u001b[0m \u001b[0;34m=\u001b[0m \u001b[0mtrue\u001b[0m\u001b[0;34m\u001b[0m\u001b[0;34m\u001b[0m\u001b[0m\n\u001b[0m\u001b[1;32m      3\u001b[0m \u001b[0mprint\u001b[0m \u001b[0;34m(\u001b[0m\u001b[0mnhiphan\u001b[0m\u001b[0;34m)\u001b[0m\u001b[0;34m\u001b[0m\u001b[0;34m\u001b[0m\u001b[0m\n",
      "\u001b[0;31mNameError\u001b[0m: name 'true' is not defined"
     ]
    }
   ],
   "source": [
    "# biến nhị phân trong Python được gọi là biến bool\n",
    "nhiphan = true\n",
    "print (nhiphan)"
   ]
  },
  {
   "cell_type": "code",
   "execution_count": 8,
   "id": "1e3c5921",
   "metadata": {},
   "outputs": [
    {
     "data": {
      "text/plain": [
       "1"
      ]
     },
     "execution_count": 8,
     "metadata": {},
     "output_type": "execute_result"
    }
   ],
   "source": [
    "# lấy phần DƯ\n",
    "5%2"
   ]
  },
  {
   "cell_type": "code",
   "execution_count": 9,
   "id": "235e7a75",
   "metadata": {},
   "outputs": [
    {
     "data": {
      "text/plain": [
       "2"
      ]
     },
     "execution_count": 9,
     "metadata": {},
     "output_type": "execute_result"
    }
   ],
   "source": [
    "# lấy SÔ NGUYÊN\n",
    "5//2"
   ]
  },
  {
   "cell_type": "code",
   "execution_count": 15,
   "id": "985c92bf",
   "metadata": {},
   "outputs": [
    {
     "data": {
      "text/plain": [
       "True"
      ]
     },
     "execution_count": 15,
     "metadata": {},
     "output_type": "execute_result"
    }
   ],
   "source": [
    "#phép so sánh bằng thì dùng ký hiệu hai dấu bằng, kết quả trả là true hay false\n",
    "2+1==3\n"
   ]
  }
 ],
 "metadata": {
  "kernelspec": {
   "display_name": "Python 3 (ipykernel)",
   "language": "python",
   "name": "python3"
  },
  "language_info": {
   "codemirror_mode": {
    "name": "ipython",
    "version": 3
   },
   "file_extension": ".py",
   "mimetype": "text/x-python",
   "name": "python",
   "nbconvert_exporter": "python",
   "pygments_lexer": "ipython3",
   "version": "3.9.6"
  }
 },
 "nbformat": 4,
 "nbformat_minor": 5
}

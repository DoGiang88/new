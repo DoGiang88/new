{
 "cells": [
  {
   "cell_type": "markdown",
   "id": "52ebb0d0",
   "metadata": {},
   "source": [
    "# [Thực hành] Vẽ hình và tô màu theo lựa chọn "
   ]
  },
  {
   "cell_type": "code",
   "execution_count": null,
   "id": "7d60ef9d",
   "metadata": {},
   "outputs": [
    {
     "name": "stdout",
     "output_type": "stream",
     "text": [
      "circle and square, what is your favorite shape?: square\n",
      "What color will it be?, yellow, red or blue?: red\n"
     ]
    }
   ],
   "source": [
    "\n",
    "hinh = input(\"circle and square, what is your favorite shape?: \")\n",
    "mau = input(\"What color will it be?, yellow, red or blue?: \")\n",
    "\n",
    "if hinh == \"circle\" or hinh == \"square\":\n",
    "    if mau == \"yellow\" or mau == \"red\" or mau == \"blue\":\n",
    "        import turtle\n",
    "        p = turtle.Turtle ()\n",
    "        sc = turtle.Screen()\n",
    "        sc.title(\"Hình bạn chọn\")\n",
    "\n",
    "        p.shape(hinh)\n",
    "        p.color(mau)\n",
    "        \n",
    "        turtle.done()\n",
    "        \n",
    "    else:\n",
    "        print(\"Sorry, I don't have this color :(\")\n",
    "else:\n",
    "      print(\"Sorry, I don't have this shape :(\")\n"
   ]
  }
 ],
 "metadata": {
  "kernelspec": {
   "display_name": "Python 3 (ipykernel)",
   "language": "python",
   "name": "python3"
  },
  "language_info": {
   "codemirror_mode": {
    "name": "ipython",
    "version": 3
   },
   "file_extension": ".py",
   "mimetype": "text/x-python",
   "name": "python",
   "nbconvert_exporter": "python",
   "pygments_lexer": "ipython3",
   "version": "3.9.6"
  }
 },
 "nbformat": 4,
 "nbformat_minor": 5
}

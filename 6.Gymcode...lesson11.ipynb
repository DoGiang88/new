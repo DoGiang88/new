{
 "cells": [
  {
   "cell_type": "markdown",
   "id": "e35ad55a",
   "metadata": {},
   "source": [
    "# [Thực hành] Vẽ hình vuông sử dụng hàm"
   ]
  },
  {
   "cell_type": "code",
   "execution_count": null,
   "id": "fbf13079",
   "metadata": {},
   "outputs": [],
   "source": [
    "import turtle\n",
    "p = turtle.Turtle()\n",
    "p.pencolor(\"green\")\n",
    "p.penup ()\n",
    "p.goto (-100,100)\n",
    "p.pendown ()\n",
    "\n",
    "def ve_hinh_vuong(hinhvuong):\n",
    "    for i in range(4):\n",
    "        p.forward(hinhvuong)\n",
    "        p.right(90)\n",
    "    turtle.done()\n",
    "ve_hinh_vuong(200)"
   ]
  },
  {
   "cell_type": "markdown",
   "id": "7e29a84b",
   "metadata": {},
   "source": [
    "# [Thực hành] Vẽ hình đa giác sử dụng hàm"
   ]
  },
  {
   "cell_type": "code",
   "execution_count": null,
   "id": "458fbd97",
   "metadata": {},
   "outputs": [],
   "source": [
    "import turtle\n",
    "p = turtle.Turtle()\n",
    "p.pencolor(\"green\")\n",
    "p.penup ()\n",
    "p.goto (-100,100)\n",
    "p.pendown ()\n",
    "def ve_da_giac (canh, chieu_dai):\n",
    "    goc = (canh - 2) * 180 / canh  # Giá trị mỗi góc của đa giác\n",
    "    for i in range(canh):\n",
    "        p.forward(chieu_dai)\n",
    "        p.right(180 - goc)\n",
    "    turtle.done()\n",
    "ve_da_giac (5,200)"
   ]
  },
  {
   "cell_type": "markdown",
   "id": "21632e22",
   "metadata": {},
   "source": [
    "# [Thực hành] Chuyển đổi nhiệt độ"
   ]
  },
  {
   "cell_type": "code",
   "execution_count": 2,
   "id": "c2413dd3",
   "metadata": {},
   "outputs": [
    {
     "name": "stdout",
     "output_type": "stream",
     "text": [
      "32.22\n"
     ]
    }
   ],
   "source": [
    "def chuyen_doi(f):\n",
    "    \"\"\"Hàm chuyển đổi độ Fahrenheit sang độ Celsius\n",
    "    f - giá trị độ F\n",
    "    \"\"\"\n",
    "    # Vì nhiệt độ đông của nước trong thang đo Fahrenheit là 32\n",
    "    # và trong thang đo Celsius là 0,\n",
    "    # bước 1: chuyển đổi giá trị bằng cách lấy độ Fahrenheit trừ 32\n",
    "    # Khoảng cách từ điểm đông đến điểm sôi của nước trong thang đo Celsius là 0-100,\n",
    "    # còn trong thang đo Fahrenheit là 32-212.\n",
    "    # Điều đó có thể hiểu là khoảng cách 180° trong thang đo Fahrenheit\n",
    "    # tương đương 100° trong thang đo Celsius.\n",
    "    # Như vậy, bạn sẽ có tỷ lệ 180/100, sau khi tối giản phân số còn 1,8\n",
    "    # Bước 2: lấy kết quả bước 1 chia cho 1.8, kết quả thu được là độ Celsius\n",
    "    return (f - 32) / 1.8\n",
    "print(round(chuyen_doi (90),2))"
   ]
  }
 ],
 "metadata": {
  "kernelspec": {
   "display_name": "Python 3 (ipykernel)",
   "language": "python",
   "name": "python3"
  },
  "language_info": {
   "codemirror_mode": {
    "name": "ipython",
    "version": 3
   },
   "file_extension": ".py",
   "mimetype": "text/x-python",
   "name": "python",
   "nbconvert_exporter": "python",
   "pygments_lexer": "ipython3",
   "version": "3.9.6"
  }
 },
 "nbformat": 4,
 "nbformat_minor": 5
}

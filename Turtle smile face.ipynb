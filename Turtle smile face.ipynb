{
 "cells": [
  {
   "cell_type": "code",
   "execution_count": 5,
   "id": "eacc4b28",
   "metadata": {},
   "outputs": [
    {
     "ename": "AttributeError",
     "evalue": "'Turtle' object has no attribute 'pendot'",
     "output_type": "error",
     "traceback": [
      "\u001b[0;31m---------------------------------------------------------------------------\u001b[0m",
      "\u001b[0;31mAttributeError\u001b[0m                            Traceback (most recent call last)",
      "\u001b[0;32m/var/folders/nc/ttqcyj6s46n0fx4kv5dj7z0c0000gn/T/ipykernel_3742/1521904740.py\u001b[0m in \u001b[0;36m<module>\u001b[0;34m\u001b[0m\n\u001b[1;32m     28\u001b[0m \u001b[0mp\u001b[0m\u001b[0;34m.\u001b[0m\u001b[0mpensize\u001b[0m \u001b[0;34m(\u001b[0m\u001b[0;36m2\u001b[0m\u001b[0;34m)\u001b[0m\u001b[0;34m\u001b[0m\u001b[0;34m\u001b[0m\u001b[0m\n\u001b[1;32m     29\u001b[0m \u001b[0mp\u001b[0m\u001b[0;34m.\u001b[0m\u001b[0mpencolor\u001b[0m \u001b[0;34m(\u001b[0m\u001b[0;34m\"#0C6F0C\"\u001b[0m\u001b[0;34m)\u001b[0m\u001b[0;34m\u001b[0m\u001b[0;34m\u001b[0m\u001b[0m\n\u001b[0;32m---> 30\u001b[0;31m \u001b[0mp\u001b[0m\u001b[0;34m.\u001b[0m\u001b[0mpendot\u001b[0m\u001b[0;34m(\u001b[0m\u001b[0meyesize\u001b[0m\u001b[0;34m)\u001b[0m\u001b[0;34m\u001b[0m\u001b[0;34m\u001b[0m\u001b[0m\n\u001b[0m\u001b[1;32m     31\u001b[0m \u001b[0;34m\u001b[0m\u001b[0m\n\u001b[1;32m     32\u001b[0m \u001b[0;31m#draw right eye\u001b[0m\u001b[0;34m\u001b[0m\u001b[0;34m\u001b[0m\u001b[0;34m\u001b[0m\u001b[0m\n",
      "\u001b[0;31mAttributeError\u001b[0m: 'Turtle' object has no attribute 'pendot'"
     ]
    }
   ],
   "source": [
    "import turtle\n",
    "p= turtle.Turtle ()\n",
    "facesize = 200\n",
    "eyesize = 20\n",
    "mouthsize = 70\n",
    "p.penup ()\n",
    "p.goto (0,-100)\n",
    "p.pensize (5)\n",
    "p.pendown ()\n",
    "p.circle (facesize)\n",
    "\n",
    "#draw the mouth\n",
    "p.penup ()\n",
    "p.goto (-70,20)\n",
    "p.rt (90)\n",
    "p.pendown ()\n",
    "p.begin_fill ()\n",
    "p.fillcolor (\"#ECEF50\")\n",
    "p.circle (mouthsize,180)\n",
    "p.left (90)\n",
    "p.fd (mouthsize*2)\n",
    "p.end_fill ()\n",
    "\n",
    "#draw left eye\n",
    "p.penup ()\n",
    "p.goto (-80,170)\n",
    "p.pendown ()\n",
    "p.pensize (2)\n",
    "p.pencolor (\"#0C6F0C\")\n",
    "p.pendot(eyesize)\n",
    "\n",
    "#draw right eye\n",
    "\n",
    "#draw nose\n",
    "\n",
    "turtle.done ()"
   ]
  },
  {
   "cell_type": "code",
   "execution_count": null,
   "id": "4284ebf3",
   "metadata": {},
   "outputs": [],
   "source": []
  }
 ],
 "metadata": {
  "kernelspec": {
   "display_name": "Python 3 (ipykernel)",
   "language": "python",
   "name": "python3"
  },
  "language_info": {
   "codemirror_mode": {
    "name": "ipython",
    "version": 3
   },
   "file_extension": ".py",
   "mimetype": "text/x-python",
   "name": "python",
   "nbconvert_exporter": "python",
   "pygments_lexer": "ipython3",
   "version": "3.9.6"
  }
 },
 "nbformat": 4,
 "nbformat_minor": 5
}

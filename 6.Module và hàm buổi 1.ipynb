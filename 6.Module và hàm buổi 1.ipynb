{
 "cells": [
  {
   "cell_type": "markdown",
   "id": "05948314",
   "metadata": {},
   "source": [
    "# Function"
   ]
  },
  {
   "cell_type": "markdown",
   "id": "3b68247e",
   "metadata": {},
   "source": [
    "## Function(hàm) là gì?"
   ]
  },
  {
   "cell_type": "markdown",
   "id": "cf84a685",
   "metadata": {},
   "source": [
    "Hàm (function) là một khối lệnh đặc biệt, nó được đặt tên, giúp mã chương trình dễ đọc hơn, và có thể gọi để sử dụng ở các nơi khác nhau trong chương trình. Hàm chính là khối lệnh có thể tái sử dụng (reuseable)."
   ]
  },
  {
   "cell_type": "markdown",
   "id": "18f95aa8",
   "metadata": {},
   "source": [
    "### Ví dụ: Hàm in"
   ]
  },
  {
   "cell_type": "code",
   "execution_count": 1,
   "id": "0d5f66b5",
   "metadata": {},
   "outputs": [
    {
     "name": "stdout",
     "output_type": "stream",
     "text": [
      "Bạn là ai?\n"
     ]
    }
   ],
   "source": [
    "print (\"Bạn là ai?\")"
   ]
  },
  {
   "cell_type": "markdown",
   "id": "29c55e2b",
   "metadata": {},
   "source": [
    "### Ví dụ: Hàm tính giá trị tuyệt đối: abs(number)"
   ]
  },
  {
   "cell_type": "code",
   "execution_count": 2,
   "id": "e492700a",
   "metadata": {},
   "outputs": [
    {
     "name": "stdout",
     "output_type": "stream",
     "text": [
      "5\n"
     ]
    }
   ],
   "source": [
    "print (abs (-5))  #abs=absolute"
   ]
  },
  {
   "cell_type": "markdown",
   "id": "07fa617d",
   "metadata": {},
   "source": [
    "### Ví dụ: Hàm vẽ hình tròn"
   ]
  },
  {
   "cell_type": "code",
   "execution_count": null,
   "id": "2a2dec85",
   "metadata": {},
   "outputs": [],
   "source": []
  },
  {
   "cell_type": "markdown",
   "id": "c4575e29",
   "metadata": {},
   "source": [
    "## Xây dựng và sử dụng hàm trong python"
   ]
  },
  {
   "cell_type": "markdown",
   "id": "00ac6720",
   "metadata": {},
   "source": [
    "### Hàm say_hello"
   ]
  },
  {
   "cell_type": "code",
   "execution_count": 6,
   "id": "47575691",
   "metadata": {},
   "outputs": [],
   "source": [
    "def say_hello ():\n",
    "    print (\"Hello\")"
   ]
  },
  {
   "cell_type": "markdown",
   "id": "f9b6f894",
   "metadata": {},
   "source": [
    "### Hàm vẽ cây thông"
   ]
  },
  {
   "cell_type": "code",
   "execution_count": 1,
   "id": "7ffc1c65",
   "metadata": {},
   "outputs": [],
   "source": [
    "def ve_thong ():\n",
    "    import turtle\n",
    "    p = turtle.Turtle ()\n",
    "    p.penup ()\n",
    "    p.setpos (250,0)\n",
    "    p.left (90)\n",
    "    p.pendown ()\n",
    "    p.pensize (4)\n",
    "    p.begin_fill ()\n",
    "    p.pencolor (\"#04390C\")\n",
    "    p.fillcolor (\"#77C183\")\n",
    "    p.circle (-50, steps=3)\n",
    "    p.end_fill ()\n",
    "   \n",
    "ve_thong ()"
   ]
  },
  {
   "cell_type": "markdown",
   "id": "77fa1ef1",
   "metadata": {},
   "source": [
    "# doc_string cho hàm: \n",
    "là một đoạn text được bắt đầu và kết thúc bằng \"\"\", tác dụng để ghi chú lại mục đích/chức năng/công việc của hàm là gì để các thành viên khác trong group cùng hiểu HÀM\n"
   ]
  },
  {
   "cell_type": "code",
   "execution_count": 1,
   "id": "8dcf448b",
   "metadata": {},
   "outputs": [
    {
     "name": "stdout",
     "output_type": "stream",
     "text": [
      "\n",
      "    Hàm tinh_chu_vi được sử dụng để tính chu vi của hình chữ nhật với \n",
      "    chiều dài và chiều rộng cho trước\n",
      "    Nhập vào thông tin: chiều dài,chiều rộng\n",
      "    \n"
     ]
    }
   ],
   "source": [
    "# Hàm tính chu vi hình chữ nhật\n",
    "def tinh_chu_vi ():\n",
    "    \"\"\"\n",
    "    Hàm tinh_chu_vi được sử dụng để tính chu vi của hình chữ nhật với \n",
    "    chiều dài và chiều rộng cho trước\n",
    "    Nhập vào thông tin: chiều dài,chiều rộng\n",
    "    \"\"\"\n",
    "    chieudai = int (input (\"Hãy nhập chiều dài của cạnh:\"))\n",
    "    chieurong = int (input (\"Hãy nhập chiều rộng của cạnh:\"))\n",
    "    chuvi = (chieudai + chieurong) * 2\n",
    "    print (f\"Chu vi hình chữ nhật là: {chuvi}\")\n",
    "print (tinh_chu_vi.__doc__)  ## .__doc__ dùng để print doc_string (nếu có) được ghi trong Hàm"
   ]
  },
  {
   "cell_type": "code",
   "execution_count": 5,
   "id": "a7dc57e9",
   "metadata": {},
   "outputs": [],
   "source": [
    "# Hàm xếp loại học sinh\n",
    "# < 5: hs trung bình\n",
    "# 5 <= và < 6.5: học sinh khá\n",
    "# còn lại hs giỏi\n",
    "\n",
    "def xep_loai ():\n",
    "    \"\"\"\n",
    "    Hàm xep_loai là hàm dùng để xếp loại học sinh dựa trên điểm trung bình\n",
    "    Nhập: điểm trung bình\n",
    "    điểm trung bình < 5 thì xep_loai là hs trung binh\n",
    "    5 <= điểm trung bình < 6.5 thì xep_loai là hs \n",
    "    còn lại thì xep_loai là hs giỏi\n",
    "    \"\"\""
   ]
  },
  {
   "cell_type": "markdown",
   "id": "0c5f3f35",
   "metadata": {},
   "source": [
    "## Phạm vi biến:\n",
    "biến gọi bên ngoài HÀM thì hiểu là biến GLOBAL\n",
    "biến gọi bên trong HÀM thì hiểu là biến LOCAL"
   ]
  },
  {
   "cell_type": "code",
   "execution_count": 4,
   "id": "b332222c",
   "metadata": {},
   "outputs": [
    {
     "name": "stdout",
     "output_type": "stream",
     "text": [
      "5\n"
     ]
    }
   ],
   "source": [
    "# Hàm tính tổng các số từ 1 đến 10\n",
    "number = 10  ## number với giá trị bằng 10 được python hiểu là biến GLOBAL\n",
    "def process_number ():\n",
    "    number = 5  ## number với giá trị bằng 10 được python hiểu là biến LOCAL\n",
    "    print (number)\n",
    "\n",
    "process_number () ## lúc gọi python thực hiện process_number, không có cách vào trong\n",
    "                ##python sẽ xét cả 2 biến number 10 và 5\n",
    "\"\"\"\n",
    "Lúc này python sẽ ưu tiên thực hiện biến local khi HÀM ĐÓ ĐƯỢC GỌI LÊN\n",
    "Do đó, lúc này kết quả hiển thị là bằng 5\n",
    "\"\"\""
   ]
  },
  {
   "cell_type": "markdown",
   "id": "7407e8fe",
   "metadata": {},
   "source": [
    "## Đối số của hàm:\n",
    "parameter: đối số  ---->>>> có 1 số tài liệu dùng thuật ngữ augrument (tham số) mang ý nghĩa tương tự như parameter"
   ]
  },
  {
   "cell_type": "code",
   "execution_count": null,
   "id": "d8fe88d4",
   "metadata": {},
   "outputs": [],
   "source": [
    "from random import randint\n",
    "randint (100, 300)"
   ]
  },
  {
   "cell_type": "code",
   "execution_count": 10,
   "id": "f5787950",
   "metadata": {},
   "outputs": [
    {
     "name": "stdout",
     "output_type": "stream",
     "text": [
      "64\n"
     ]
    }
   ],
   "source": [
    "# Hàm tính thể tích hình lập phương\n",
    "def calculate_cube_volume (side):  ## side là parameter trong HÀM calculate_cube_volumn \n",
    "    print(side*side*side)\n",
    "calculate_cube_volume (4)"
   ]
  },
  {
   "cell_type": "code",
   "execution_count": 11,
   "id": "8d1bc23b",
   "metadata": {},
   "outputs": [
    {
     "name": "stdout",
     "output_type": "stream",
     "text": [
      "Trung Bình\n"
     ]
    }
   ],
   "source": [
    "# Hàm xếp loại học sinh\n",
    "def xep_loai_hs (diem_tb):\n",
    "    if diem_tb > 6.5:\n",
    "        print (\"Giỏi\")\n",
    "    elif 5 <= diem_tb >= 6.5:\n",
    "        print (\"Khá\")\n",
    "    else:\n",
    "        print (\"Trung Bình\")\n",
    "xep_loai_hs (4)"
   ]
  },
  {
   "cell_type": "code",
   "execution_count": 12,
   "id": "f3dae2fd",
   "metadata": {},
   "outputs": [
    {
     "name": "stdout",
     "output_type": "stream",
     "text": [
      "4\n"
     ]
    }
   ],
   "source": [
    "#Hàm tính số lần xuất hiện của chuỗi con trong chuỗi cha\n",
    "\n",
    "def count_appearance (string, sub_string):\n",
    "    dem = string.count (sub_string)\n",
    "    print (dem)\n",
    "    \n",
    "count_appearance (\"aaaabaa  aa\", \"aa\")   \n"
   ]
  },
  {
   "cell_type": "code",
   "execution_count": 12,
   "id": "370e2f55",
   "metadata": {},
   "outputs": [
    {
     "name": "stdout",
     "output_type": "stream",
     "text": [
      "4\n"
     ]
    }
   ],
   "source": [
    "#Hàm tính số lần xuất hiện của chuỗi con trong chuỗi cha\n",
    "#Default value được sử dụng để gán giá trị MẶC ĐỊNH cho parameter\n",
    "#khi function được gọi nhưng không có g\n",
    "def count_appearance (string, sub_string):\n",
    "    dem = string.count (sub_string)\n",
    "    print (dem)\n",
    "    \n",
    "count_appearance (\"aaaabaa  aa\", \"aa\")   \n"
   ]
  },
  {
   "cell_type": "markdown",
   "id": "9c74ec78",
   "metadata": {},
   "source": [
    "# Name argument:\n",
    "    được sử dụng khi chúng ta không xác định được VỊ TRÍ của agrument/không biết argument đó có hay không có thì ta nên sử dụng name khi gọi hàm"
   ]
  },
  {
   "cell_type": "code",
   "execution_count": null,
   "id": "ed14159f",
   "metadata": {},
   "outputs": [],
   "source": [
    "def subtract (a,b):\n",
    "    print (a - b)\n",
    "subtract (b=3, a=5)  ## ta đang dùng name agrument\n"
   ]
  },
  {
   "cell_type": "markdown",
   "id": "4cb69485",
   "metadata": {},
   "source": [
    "## Giá trị trả về của hàm"
   ]
  },
  {
   "cell_type": "code",
   "execution_count": null,
   "id": "24592238",
   "metadata": {},
   "outputs": [],
   "source": [
    "# Hàm tính chiều dài của chuỗi"
   ]
  },
  {
   "cell_type": "code",
   "execution_count": null,
   "id": "56d947d8",
   "metadata": {},
   "outputs": [],
   "source": [
    "# Hàm tính lũy thừa"
   ]
  },
  {
   "cell_type": "code",
   "execution_count": null,
   "id": "0178d43e",
   "metadata": {},
   "outputs": [],
   "source": [
    "# Hàm kiểm tra năm nhuận"
   ]
  }
 ],
 "metadata": {
  "kernelspec": {
   "display_name": "Python 3 (ipykernel)",
   "language": "python",
   "name": "python3"
  },
  "language_info": {
   "codemirror_mode": {
    "name": "ipython",
    "version": 3
   },
   "file_extension": ".py",
   "mimetype": "text/x-python",
   "name": "python",
   "nbconvert_exporter": "python",
   "pygments_lexer": "ipython3",
   "version": "3.9.6"
  }
 },
 "nbformat": 4,
 "nbformat_minor": 5
}

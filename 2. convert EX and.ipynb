{
 "cells": [
  {
   "cell_type": "code",
   "execution_count": 1,
   "id": "259edad3",
   "metadata": {},
   "outputs": [
    {
     "name": "stdout",
     "output_type": "stream",
     "text": [
      "Nhập số tiền USD bạn muốn đổi: 50\n"
     ]
    }
   ],
   "source": [
    "usd = int(input(\"Nhập số tiền USD bạn muốn đổi: \"))"
   ]
  },
  {
   "cell_type": "code",
   "execution_count": 2,
   "id": "ac637c57",
   "metadata": {},
   "outputs": [
    {
     "name": "stdout",
     "output_type": "stream",
     "text": [
      "Nhập tỷ giá USD/VND hiện tại: 21000\n"
     ]
    }
   ],
   "source": [
    "ex = int(input(\"Nhập tỷ giá USD/VND hiện tại: \"))"
   ]
  },
  {
   "cell_type": "code",
   "execution_count": 6,
   "id": "b2c29bb4",
   "metadata": {},
   "outputs": [],
   "source": [
    "tongtien = usd * ex"
   ]
  },
  {
   "cell_type": "code",
   "execution_count": 7,
   "id": "8416abe1",
   "metadata": {},
   "outputs": [
    {
     "name": "stdout",
     "output_type": "stream",
     "text": [
      "Tổng số tiền chuyển đổi: 1050000\n"
     ]
    }
   ],
   "source": [
    "print (f\"Tổng số tiền chuyển đổi: {tongtien}\" )"
   ]
  }
 ],
 "metadata": {
  "kernelspec": {
   "display_name": "Python 3 (ipykernel)",
   "language": "python",
   "name": "python3"
  },
  "language_info": {
   "codemirror_mode": {
    "name": "ipython",
    "version": 3
   },
   "file_extension": ".py",
   "mimetype": "text/x-python",
   "name": "python",
   "nbconvert_exporter": "python",
   "pygments_lexer": "ipython3",
   "version": "3.9.6"
  }
 },
 "nbformat": 4,
 "nbformat_minor": 5
}

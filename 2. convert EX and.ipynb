{
 "cells": [
  {
   "cell_type": "raw",
   "id": "405febad",
   "metadata": {},
   "source": [
    "CHUYỂN ĐỔI TỶ GIÁ"
   ]
  },
  {
   "cell_type": "code",
   "execution_count": 1,
   "id": "259edad3",
   "metadata": {
    "scrolled": false
   },
   "outputs": [
    {
     "name": "stdout",
     "output_type": "stream",
     "text": [
      "Nhập số tiền USD bạn muốn đổi: 50\n"
     ]
    }
   ],
   "source": [
    "usd = int(input(\"Nhập số tiền USD bạn muốn đổi: \"))"
   ]
  },
  {
   "cell_type": "code",
   "execution_count": 2,
   "id": "ac637c57",
   "metadata": {},
   "outputs": [
    {
     "name": "stdout",
     "output_type": "stream",
     "text": [
      "Nhập tỷ giá USD/VND hiện tại: 21000\n"
     ]
    }
   ],
   "source": [
    "ex = int(input(\"Nhập tỷ giá USD/VND hiện tại: \"))"
   ]
  },
  {
   "cell_type": "code",
   "execution_count": 6,
   "id": "b2c29bb4",
   "metadata": {},
   "outputs": [],
   "source": [
    "tongtien = usd * ex"
   ]
  },
  {
   "cell_type": "code",
   "execution_count": 7,
   "id": "8416abe1",
   "metadata": {},
   "outputs": [
    {
     "name": "stdout",
     "output_type": "stream",
     "text": [
      "Tổng số tiền chuyển đổi: 1050000\n"
     ]
    }
   ],
   "source": [
    "print (f\"Tổng số tiền chuyển đổi: {tongtien}\" )"
   ]
  },
  {
   "cell_type": "markdown",
   "id": "b8d4ce84",
   "metadata": {},
   "source": [
    "# Tính chu vi và diện tích hình tròn"
   ]
  },
  {
   "cell_type": "code",
   "execution_count": 8,
   "id": "9c9b903b",
   "metadata": {},
   "outputs": [
    {
     "name": "stdout",
     "output_type": "stream",
     "text": [
      "Nhập bán kính hình tròn: 150\n"
     ]
    }
   ],
   "source": [
    "#Bước 1: nhập bán kính circle\n",
    "bankinh = int(input(\"Nhập bán kính hình tròn: \"))"
   ]
  },
  {
   "cell_type": "code",
   "execution_count": 9,
   "id": "769b1f82",
   "metadata": {},
   "outputs": [
    {
     "name": "stdout",
     "output_type": "stream",
     "text": [
      "Chu vi hình tròn là: 942.48\n",
      "Diện tích hình tròn là: 70685.83470577035\n"
     ]
    }
   ],
   "source": [
    "#Bước 2: tính chu vi và diện tích circle dựa trên biến bán kính vừa tạo\n",
    "from math import pi\n",
    "##kết hợp hàm round làm tròn lấy 2 chữ số thập phân\n",
    "chuvi = round(pi * 2 * bankinh,2)\n",
    "dientich = pi * bankinh * bankinh\n",
    "\n",
    "print (f\"Chu vi hình tròn là: {chuvi}\")\n",
    "print (f\"Diện tích hình tròn là: {dientich}\")"
   ]
  },
  {
   "cell_type": "code",
   "execution_count": null,
   "id": "162d03d4",
   "metadata": {},
   "outputs": [],
   "source": [
    "import turtle\n",
    "p = turtle.Turtle ()\n",
    "p.circle (bankinh)\n",
    "turtle.done()"
   ]
  }
 ],
 "metadata": {
  "kernelspec": {
   "display_name": "Python 3 (ipykernel)",
   "language": "python",
   "name": "python3"
  },
  "language_info": {
   "codemirror_mode": {
    "name": "ipython",
    "version": 3
   },
   "file_extension": ".py",
   "mimetype": "text/x-python",
   "name": "python",
   "nbconvert_exporter": "python",
   "pygments_lexer": "ipython3",
   "version": "3.9.6"
  }
 },
 "nbformat": 4,
 "nbformat_minor": 5
}

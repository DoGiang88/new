{
 "cells": [
  {
   "cell_type": "markdown",
   "id": "7ac14915",
   "metadata": {},
   "source": [
    "# Nhập xuất dữ liệu và String\n",
    "## Cách nhập xuất dữ liệu"
   ]
  },
  {
   "cell_type": "markdown",
   "id": "0f202ae8",
   "metadata": {},
   "source": [
    "### Xuất dữ liệu ra màn hình\n",
    "Để in các nội dung mà chúng ta mong muốn ra màn hình, ta sử dụng lệnh print()"
   ]
  },
  {
   "cell_type": "code",
   "execution_count": 1,
   "id": "a6d3f260",
   "metadata": {},
   "outputs": [
    {
     "name": "stdout",
     "output_type": "stream",
     "text": [
      "python is very easy\n"
     ]
    }
   ],
   "source": [
    "# Ví dụ: In ra nội dung \"python is very easy\"\n",
    "print (\"python is very easy\")"
   ]
  },
  {
   "cell_type": "markdown",
   "id": "7733925a",
   "metadata": {},
   "source": [
    "### Các cách custom với lệnh print"
   ]
  },
  {
   "cell_type": "markdown",
   "id": "292ab570",
   "metadata": {},
   "source": [
    "Để in một nội dung kèm theo giá trị của biến, ta có các cách sau:"
   ]
  },
  {
   "cell_type": "code",
   "execution_count": 10,
   "id": "20ff912c",
   "metadata": {},
   "outputs": [],
   "source": [
    "# muốn in câu sau: I LOVE CHOCOLATE AND I HATE SANDWICH\n",
    "food_1 = \"chocolate\"\n",
    "food_2 = \"sandwich\""
   ]
  },
  {
   "cell_type": "code",
   "execution_count": null,
   "id": "6407a448",
   "metadata": {},
   "outputs": [],
   "source": [
    "# In trực tiếp\n",
    "print (\"I love chocolate and I hate sandwich\")"
   ]
  },
  {
   "cell_type": "code",
   "execution_count": 5,
   "id": "27d098b8",
   "metadata": {},
   "outputs": [
    {
     "name": "stdout",
     "output_type": "stream",
     "text": [
      "I love chocolate and I hate sandwich\n",
      "I love--chocolate--and I hate--sandwich\n"
     ]
    }
   ],
   "source": [
    "# In bằng cách ghép các nội dung với nhau: using variable\n",
    "print (\"I love\", food_1, \"and I hate\", food_2)\n",
    "\n",
    "#để thay đổi KÝ TỰ NỐI (mặc định là space) giữa các nội dung trong lệnh print, \n",
    "#chúng ta có thể sử dụng sep=\"ký tự nối muốn sử dụng\"\n",
    "print (\"I love\", food_1, \"and I hate\", food_2, sep=\"--\")  #CODING CONVENTION"
   ]
  },
  {
   "cell_type": "code",
   "execution_count": null,
   "id": "717666f2",
   "metadata": {},
   "outputs": [],
   "source": [
    "# Sử dụng String Format:cần để chữ \"f\" (viết tắt của format)trước string\n",
    "print (f\"I love {food_1} and I hate {food_2}\")"
   ]
  },
  {
   "cell_type": "code",
   "execution_count": 12,
   "id": "c7276e05",
   "metadata": {},
   "outputs": [
    {
     "name": "stdout",
     "output_type": "stream",
     "text": [
      "I lovechocolate and I hate sandwich\n"
     ]
    }
   ],
   "source": [
    "# Sử dụng nhiều lệnh print\n",
    "print (\"I love\", end=\"\")\n",
    "print (food_1, end=\"\")\n",
    "print (\" and I hate \", end=\"\")\n",
    "print (food_2)"
   ]
  },
  {
   "cell_type": "markdown",
   "id": "e10788fb",
   "metadata": {},
   "source": [
    "### Nhập dữ liệu\n",
    "Để nhập dữ liệu vào chương trình python, chúng ta sử dụng hàm input()"
   ]
  },
  {
   "cell_type": "code",
   "execution_count": null,
   "id": "b8b8afd3",
   "metadata": {},
   "outputs": [],
   "source": [
    "input ()"
   ]
  },
  {
   "cell_type": "code",
   "execution_count": null,
   "id": "60044bce",
   "metadata": {},
   "outputs": [],
   "source": [
    "input (\"Hãy nhập MSSV\")"
   ]
  },
  {
   "cell_type": "code",
   "execution_count": null,
   "id": "508412c8",
   "metadata": {},
   "outputs": [],
   "source": [
    "length = int(input(\"Hãy nhập chiều dài hình chữ nhật\")\n",
    "print(length)\n",
    "print(type(length))"
   ]
  },
  {
   "cell_type": "markdown",
   "id": "337f9c15",
   "metadata": {},
   "source": [
    "#### Thực hành: Viết chương trình nhập vào chiều dài và chiều rộng của hình chữ nhật, sau đó in ra chu vi và diện tích của hình chữ nhật đó"
   ]
  },
  {
   "cell_type": "code",
   "execution_count": 3,
   "id": "add68103",
   "metadata": {},
   "outputs": [
    {
     "name": "stdout",
     "output_type": "stream",
     "text": [
      "Nhập chiều dài: 10\n",
      "Nhập chiều rộng: 5\n"
     ]
    }
   ],
   "source": [
    "# Nhập các kích thước của hình chữ nhật\n",
    "length = int(input(\"Nhập chiều dài: \"))\n",
    "width = int(input(\"Nhập chiều rộng: \"))"
   ]
  },
  {
   "cell_type": "code",
   "execution_count": 7,
   "id": "7a1cd73e",
   "metadata": {},
   "outputs": [],
   "source": [
    "# Tính toán chu vi, diện tích\n",
    "chuvi = (length + width) * 2\n",
    "dientich = length * width"
   ]
  },
  {
   "cell_type": "code",
   "execution_count": 9,
   "id": "d0adf735",
   "metadata": {},
   "outputs": [
    {
     "name": "stdout",
     "output_type": "stream",
     "text": [
      "Chu vi hình chữ nhật:30\n",
      "Diện tích hình chữ nhật: 50\n"
     ]
    }
   ],
   "source": [
    "# In kết quả ra màn hình bằng 3 cách\n",
    "print (f\"Chu vi hình chữ nhật:{chuvi}\")\n",
    "print (f\"Diện tích hình chữ nhật: {dientich}\")"
   ]
  },
  {
   "cell_type": "markdown",
   "id": "fb54cb77",
   "metadata": {},
   "source": [
    "#### Thực hành: Viết chương trình nhập vào số đo cạnh và mã màu của tam giác đều, sau đó sử dụng turtle để vẽ ra hình tam giác có số đo và màu tương ứng"
   ]
  },
  {
   "cell_type": "code",
   "execution_count": 14,
   "id": "7583b308",
   "metadata": {},
   "outputs": [
    {
     "name": "stdout",
     "output_type": "stream",
     "text": [
      "Hãy nhập số đo cạnh của tam giác đều: 100\n",
      "Hãy nhập mã màu: #FF5733\n"
     ]
    }
   ],
   "source": [
    "canh = int(input(\"Hãy nhập số đo cạnh của tam giác đều: \"))\n",
    "color_code = input (\"Hãy nhập mã màu: \")\n",
    "import turtle\n",
    "p = turtle.Turtle ()\n",
    "p.pencolor (color_code)\n",
    "p.circle (canh,steps = 3)"
   ]
  },
  {
   "cell_type": "markdown",
   "id": "fa7cb208",
   "metadata": {},
   "source": [
    "## Cú pháp import"
   ]
  },
  {
   "cell_type": "markdown",
   "id": "ab2a2ea5",
   "metadata": {},
   "source": [
    "Để sử dụng một module từ bên ngoài, chúng ta sẽ sử dụng từ khóa import. Sau đây là ví dụ về một số cách import phổ biến."
   ]
  },
  {
   "cell_type": "markdown",
   "id": "bd6de377",
   "metadata": {},
   "source": [
    "### Random một giá trị ngẫu nhiên"
   ]
  },
  {
   "cell_type": "code",
   "execution_count": 3,
   "id": "ce5547f5",
   "metadata": {},
   "outputs": [
    {
     "name": "stdout",
     "output_type": "stream",
     "text": [
      "10\n"
     ]
    }
   ],
   "source": [
    "#cài module \"random\" vào python\n",
    "import random\n",
    "#nếu muốn chọn một số ngầu nhiên từ 0 đến 10 thì gõ lệnh là từ 0 đến 11\n",
    "print (random.randint(0,11))"
   ]
  },
  {
   "cell_type": "markdown",
   "id": "dfa93dc0",
   "metadata": {},
   "source": [
    "### Thực hiện các phép toán số học"
   ]
  },
  {
   "cell_type": "code",
   "execution_count": 8,
   "id": "4f06f722",
   "metadata": {},
   "outputs": [],
   "source": [
    "# import TOÀN BỘ module liên quan đến làm toán: math\n",
    "import math\n",
    "print (math.pi)  #hiển thị số pi\n",
    "print (math.pow(2,3)) #tính 2^3\n",
    "\n",
    "#nếu khi viết code, ta cần phải import rất nhiều module\n",
    "#nên nếu ta import TOÀN BỘ module, thì sẽ làm đầy bộ nhớ của máy và làm máy chạy chậm!!!\n",
    "#do đó, nhiều khi ta chỉ cần import MỘT PHẦN của module."
   ]
  },
  {
   "cell_type": "code",
   "execution_count": null,
   "id": "6b9e471b",
   "metadata": {},
   "outputs": [],
   "source": [
    "# import một phần trong module"
   ]
  },
  {
   "cell_type": "markdown",
   "id": "391969e7",
   "metadata": {},
   "source": [
    "## Xử lý String trong python"
   ]
  },
  {
   "cell_type": "markdown",
   "id": "ab461669",
   "metadata": {},
   "source": [
    "### String là gì?\n",
    "String là một chuỗi gồm các ký tự Unicode"
   ]
  },
  {
   "cell_type": "markdown",
   "id": "94a27b90",
   "metadata": {},
   "source": [
    "### Khởi tạo một string"
   ]
  },
  {
   "cell_type": "code",
   "execution_count": null,
   "id": "b14f4fcc",
   "metadata": {},
   "outputs": [],
   "source": [
    "# one-line string\n",
    "course = \"python\"\n",
    "mssv = \"họ tên\""
   ]
  },
  {
   "cell_type": "code",
   "execution_count": 6,
   "id": "9cc506a7",
   "metadata": {},
   "outputs": [],
   "source": [
    "# multi-line string\n",
    "shape = '''\n",
    "*\n",
    "**\n",
    "***\n",
    "'''"
   ]
  },
  {
   "cell_type": "markdown",
   "id": "8f4270fd",
   "metadata": {},
   "source": [
    "### Các thao tác phổ biến với string"
   ]
  },
  {
   "cell_type": "code",
   "execution_count": 9,
   "id": "c825f890",
   "metadata": {},
   "outputs": [
    {
     "name": "stdout",
     "output_type": "stream",
     "text": [
      "5\n",
      "10\n"
     ]
    }
   ],
   "source": [
    "# Kiểm tra độ dài string\n",
    "print (len(\"hello\"))\n",
    "print (len(shape))  # đáp án là 10 vì 6 ký tự * cộng với 4 lần xuống hàng"
   ]
  },
  {
   "cell_type": "code",
   "execution_count": null,
   "id": "6de96621",
   "metadata": {},
   "outputs": [],
   "source": [
    "# Truy xuất ký tự bằng cơ chế indexing và reverse indexing\n",
    "#lấy chữ O\n",
    "print(course[4])  #indexing: đánh index(vị trị) lấy ký tự từ BÊN TRÁI QUA, bắt đầu đếm TỪ 0\n",
    "#lấy chữ H\n",
    "print(course[-2])  #reverse indexing: đánh index(vị trị) lấy ký tự từ BÊN PHẢI QUA, bắt đầu đếm TỪ -1\n"
   ]
  },
  {
   "cell_type": "markdown",
   "id": "a4f949d9",
   "metadata": {},
   "source": [
    "#### Thực hành: Viết chương trình nhập vào một chuỗi bất kỳ, sau đó in ra ký tự đầu tiên và ký tự cuối cùng của chuỗi đó."
   ]
  },
  {
   "cell_type": "code",
   "execution_count": 12,
   "id": "14833f18",
   "metadata": {},
   "outputs": [
    {
     "name": "stdout",
     "output_type": "stream",
     "text": [
      "Nhập một chuỗi bất kỳ: jkbkjbkj\n",
      "Ký tự đầu tiên:  j\n",
      "Ký tự cuối cùng:  j\n"
     ]
    }
   ],
   "source": [
    "X = input(\"Nhập một chuỗi bất kỳ: \")\n",
    "print(\"Ký tự đầu tiên: \",X[0])\n",
    "print (\"Ký tự cuối cùng: \",X[-1])"
   ]
  },
  {
   "cell_type": "code",
   "execution_count": 15,
   "id": "9aad2f16",
   "metadata": {},
   "outputs": [
    {
     "name": "stdout",
     "output_type": "stream",
     "text": [
      "Python\n",
      "Đỗ Giang\n",
      "Python,6\n"
     ]
    }
   ],
   "source": [
    "# Cắt string theo index\n",
    "\n",
    "s = \"Đỗ Giang,Python,6\"\n",
    "print(s[9:15])  #\n",
    "print (s[:8])  #begin từ đầu hàng thì KHÔNG CẦN GHI SỐ\n",
    "print (s[9:])  #LẤY ĐẾN CUỐI HÀNG thì không cần ghi số"
   ]
  },
  {
   "cell_type": "code",
   "execution_count": 19,
   "id": "6ec63f90",
   "metadata": {},
   "outputs": [
    {
     "name": "stdout",
     "output_type": "stream",
     "text": [
      "I'm Đỗ Giang. I'm studyingPython\n",
      "Đỗ GiangĐỗ GiangĐỗ GiangĐỗ GiangĐỗ Giang\n"
     ]
    }
   ],
   "source": [
    "# Ghép chuỗi và lặp chuỗi\n",
    "name = \"Đỗ Giang\"\n",
    "course = \"Python\"\n",
    "#ghép STRING bằng cú pháp dùng dấu CỘNG như sau\n",
    "content = \"I'm \" + name + \". I'm studying\" + course\n",
    "print (content)\n",
    "print (name*5)  #lặp lại biến STRING 5 lần"
   ]
  },
  {
   "cell_type": "markdown",
   "id": "84c2dcb9",
   "metadata": {},
   "source": [
    "#### Thực hành: Xử lý và in ra các thông tin tương ứng trong chuỗi"
   ]
  },
  {
   "cell_type": "code",
   "execution_count": 21,
   "id": "cd71f135",
   "metadata": {},
   "outputs": [
    {
     "name": "stdout",
     "output_type": "stream",
     "text": [
      "CodeGym\n",
      "Python Fundamental\n",
      "lesson 6\n"
     ]
    }
   ],
   "source": [
    "D = \"CodeGym-Python Fundamental-lesson 6\"\n",
    "print (D[:7])\n",
    "print (D[8:26])\n",
    "print (D[27:])"
   ]
  },
  {
   "cell_type": "markdown",
   "id": "7cbd965f",
   "metadata": {},
   "source": [
    "### Các hàm thông dụng khi xử lý string"
   ]
  },
  {
   "cell_type": "code",
   "execution_count": 1,
   "id": "eb5932a1",
   "metadata": {},
   "outputs": [
    {
     "name": "stdout",
     "output_type": "stream",
     "text": [
      "10\n"
     ]
    }
   ],
   "source": [
    "# len\n",
    "s = \"jkklnsaioj\"\n",
    "print (len(s))"
   ]
  },
  {
   "cell_type": "code",
   "execution_count": 3,
   "id": "6bef6d33",
   "metadata": {},
   "outputs": [
    {
     "name": "stdout",
     "output_type": "stream",
     "text": [
      "Trong chuỗi h có 7 dấu gạch ngang\n",
      "Trong chuỗi h có 8 từ\n"
     ]
    }
   ],
   "source": [
    "# count\n",
    "#hàm count dùng để đếm số lần xuất hiện của một chuỗi con trong một chuỗi cho trước\n",
    "h = \"Cac_ham_thong_dung_khi_xu_ly_string\"\n",
    "print (f\"Trong chuỗi h có {h.count('_')} dấu gạch ngang\")\n",
    "print (f\"Trong chuỗi h có {h.count('_')+1} từ\")"
   ]
  },
  {
   "cell_type": "code",
   "execution_count": 4,
   "id": "c3c97d8a",
   "metadata": {},
   "outputs": [
    {
     "name": "stdout",
     "output_type": "stream",
     "text": [
      "Trong chuỗi h có 7 dấu gạch ngang\n",
      "Trong chuỗi h có 8 từ\n"
     ]
    }
   ],
   "source": [
    "c = \"Cac_ham_thong_dung_khi_xu_ly_string\"\n",
    "total_underscore = c.count ('_')\n",
    "\n",
    "print (f\"Trong chuỗi h có {total_underscore} dấu gạch ngang\")\n",
    "print (f\"Trong chuỗi h có {total_underscore+1} từ\")"
   ]
  },
  {
   "cell_type": "code",
   "execution_count": 11,
   "id": "1582bbd8",
   "metadata": {},
   "outputs": [
    {
     "name": "stdout",
     "output_type": "stream",
     "text": [
      "ĐỖ THỊ HOÀI GIANG 220588\n",
      "đỗ thị hoài giang 220588\n",
      "Đỗ thị hoài giang 220588\n",
      "Ị ho\n",
      "I \n",
      "Ị ho I \n"
     ]
    }
   ],
   "source": [
    "# upper, lower\n",
    "#upper: viết hoa toàn bộ ký tự\n",
    "l = \"đỗ thị Hoài Giang 220588\"\n",
    "print (l.upper())\n",
    "print (l.lower())\n",
    "print (l.capitalize())\n",
    "\n",
    "a = l[5:9].capitalize()\n",
    "print(a)\n",
    "b = l[10:12].capitalize()\n",
    "print(b)\n",
    "print(a + \" \" + b)"
   ]
  },
  {
   "cell_type": "code",
   "execution_count": 10,
   "id": "0d08f708",
   "metadata": {},
   "outputs": [
    {
     "name": "stdout",
     "output_type": "stream",
     "text": [
      "    giang.    !!!\n",
      "giang.    !!!\n",
      "    giang. !!!\n",
      "giang. !!!\n"
     ]
    }
   ],
   "source": [
    "# lstrip, rstrip, strip\n",
    "name = \"    giang.   \"\n",
    "#lstrip: bỏ SPACE dư thừa trước string (lstrip là Left strip)\n",
    "print (name,\"!!!\")\n",
    "print (name.lstrip(),\"!!!\")\n",
    "print (name.rstrip(),\"!!!\")\n",
    "print (name.strip(),\"!!!\")"
   ]
  },
  {
   "cell_type": "code",
   "execution_count": 14,
   "id": "62180d52",
   "metadata": {},
   "outputs": [
    {
     "name": "stdout",
     "output_type": "stream",
     "text": [
      "['I', 'am', 'fine']\n",
      "['I am fine', ' I live with my family', ' I love them']\n"
     ]
    }
   ],
   "source": [
    "# split: dùng để CẮT một câu THÀNH TỪNG TỪ RIÊNG LẺ\n",
    "u = \"I am fine. I live with my family. I love them\"\n",
    "n = \"I am fine\"\n",
    "print (n.split())\n",
    "#Cắt theo 1 ký tự cho trước: ví dụ là cắt theo dấu chấm\n",
    "print (u.split('.'))"
   ]
  },
  {
   "cell_type": "markdown",
   "id": "032ba1fc",
   "metadata": {},
   "source": []
  }
 ],
 "metadata": {
  "kernelspec": {
   "display_name": "Python 3 (ipykernel)",
   "language": "python",
   "name": "python3"
  },
  "language_info": {
   "codemirror_mode": {
    "name": "ipython",
    "version": 3
   },
   "file_extension": ".py",
   "mimetype": "text/x-python",
   "name": "python",
   "nbconvert_exporter": "python",
   "pygments_lexer": "ipython3",
   "version": "3.9.6"
  }
 },
 "nbformat": 4,
 "nbformat_minor": 5
}

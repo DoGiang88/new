{
 "cells": [
  {
   "cell_type": "code",
   "execution_count": 1,
   "id": "c7802748",
   "metadata": {},
   "outputs": [],
   "source": [
    "#practice turtle: drawing a house, a sun and a tree\n",
    "\n",
    "import turtle\n",
    "p = turtle.Turtle ()\n"
   ]
  },
  {
   "cell_type": "code",
   "execution_count": 2,
   "id": "f08a3865",
   "metadata": {},
   "outputs": [
    {
     "ename": "AttributeError",
     "evalue": "'Turtle' object has no attribute 'background'",
     "output_type": "error",
     "traceback": [
      "\u001b[0;31m---------------------------------------------------------------------------\u001b[0m",
      "\u001b[0;31mAttributeError\u001b[0m                            Traceback (most recent call last)",
      "\u001b[0;32m/var/folders/nc/ttqcyj6s46n0fx4kv5dj7z0c0000gn/T/ipykernel_3074/4218163931.py\u001b[0m in \u001b[0;36m<module>\u001b[0;34m\u001b[0m\n\u001b[1;32m      1\u001b[0m \u001b[0;31m#cell to store variables\u001b[0m\u001b[0;34m\u001b[0m\u001b[0;34m\u001b[0m\u001b[0;34m\u001b[0m\u001b[0m\n\u001b[1;32m      2\u001b[0m \u001b[0msunsize\u001b[0m\u001b[0;34m=\u001b[0m\u001b[0;36m30\u001b[0m\u001b[0;34m\u001b[0m\u001b[0;34m\u001b[0m\u001b[0m\n\u001b[0;32m----> 3\u001b[0;31m \u001b[0mp\u001b[0m\u001b[0;34m.\u001b[0m\u001b[0mbackground\u001b[0m\u001b[0;34m(\u001b[0m\u001b[0;34m\"#F4F9E4\"\u001b[0m\u001b[0;34m)\u001b[0m\u001b[0;34m\u001b[0m\u001b[0;34m\u001b[0m\u001b[0m\n\u001b[0m",
      "\u001b[0;31mAttributeError\u001b[0m: 'Turtle' object has no attribute 'background'"
     ]
    }
   ],
   "source": [
    "#cell to store variables\n",
    "sunsize=30"
   ]
  },
  {
   "cell_type": "code",
   "execution_count": 3,
   "id": "bd24e188",
   "metadata": {},
   "outputs": [],
   "source": [
    "#draw a sun\n",
    "#draw a circle\n",
    "p.penup ()\n",
    "p.goto (200,200)\n",
    "p.pendown ()\n",
    "p.pencolor (\"orange\")\n",
    "p.fillcolor (\"#FBFAB4\")\n",
    "p.begin_fill ()\n",
    "p.circle (sunsize)\n",
    "p.end_fill ()\n",
    "#draw the light\n",
    "p.fd (15)\n"
   ]
  },
  {
   "cell_type": "code",
   "execution_count": 1,
   "id": "a29c5061",
   "metadata": {},
   "outputs": [],
   "source": [
    "#draw a house\n",
    "import turtle\n",
    "p = turtle.Turtle ()\n",
    "p.penup ()\n",
    "p.goto (-200,-0)\n",
    "p.pendown ()\n",
    "p.pencolor (\"#900C3F\")\n",
    "p.begin_fill ()\n",
    "p.pensize (5)\n",
    "p.fillcolor (\"#FF5733\")\n",
    "p.circle (-50,steps=3)\n",
    "p.rt (-40)\n",
    "p.pendown ()\n",
    "p.fd (100)\n",
    "p.rt (75)\n",
    "p.fd (75)\n",
    "p.rt (100)\n",
    "p.fd (135)\n",
    "p.end_fill ()\n",
    "p.begin_fill ()\n",
    "p.fillcolor (\"#C5FBF9\")\n",
    "p.rt (-44)\n",
    "p.fd (100)\n",
    "p.rt (90)\n",
    "p.fd (35)\n",
    "p.rt (90)\n",
    "p.fd (25)\n",
    "p.lt (90)\n",
    "p.fd (15)\n",
    "p.lt (90)\n",
    "p.fd (25)\n",
    "p.rt (90)\n",
    "p.fd (35)\n",
    "p.penup ()\n",
    "p.backward (50)\n",
    "p.pendown ()\n",
    "p.fd (15)\n",
    "p.penup ()\n",
    "p.forward (35)\n",
    "p.pendown ()\n",
    "p.rt (90)\n",
    "p.fd (100)\n",
    "p.rt (90)\n",
    "p.fd (85)\n",
    "p.rt (90)\n",
    "p.penup ()\n",
    "p.fd (100)\n",
    "p.pendown ()\n",
    "p.lt (-40)\n",
    "p.backward (150)\n",
    "p.rt (140)\n",
    "p.fd (80)\n",
    "p.end_fill ()\n",
    "#draw window\n",
    "p.penup ()\n",
    "p.backward (20)\n",
    "p.lt (140)\n",
    "p.fd (60)\n",
    "p.pendown ()\n",
    "p.fd (30)\n",
    "p.lt (40)\n",
    "p.fd (25)\n",
    "p.rt (40)\n",
    "p.backward (30)\n",
    "p.rt (140)\n",
    "p.fd (25)\n"
   ]
  },
  {
   "cell_type": "code",
   "execution_count": 2,
   "id": "ff5038ac",
   "metadata": {},
   "outputs": [],
   "source": [
    "p.pendown ()\n",
    "p.rt (-90)\n",
    "p.fd (90)\n",
    "p.rt (90)\n",
    "p.fd (100)\n",
    "p.rt (120)\n",
    "p.fd (150)\n",
    "p.rt (90)\n",
    "p.fd (100)\n",
    "p.end_fill ()"
   ]
  },
  {
   "cell_type": "code",
   "execution_count": null,
   "id": "94d84749",
   "metadata": {},
   "outputs": [],
   "source": []
  },
  {
   "cell_type": "code",
   "execution_count": null,
   "id": "9d72c04f",
   "metadata": {},
   "outputs": [],
   "source": []
  },
  {
   "cell_type": "code",
   "execution_count": null,
   "id": "4b32ba3f",
   "metadata": {},
   "outputs": [],
   "source": []
  }
 ],
 "metadata": {
  "kernelspec": {
   "display_name": "Python 3 (ipykernel)",
   "language": "python",
   "name": "python3"
  },
  "language_info": {
   "codemirror_mode": {
    "name": "ipython",
    "version": 3
   },
   "file_extension": ".py",
   "mimetype": "text/x-python",
   "name": "python",
   "nbconvert_exporter": "python",
   "pygments_lexer": "ipython3",
   "version": "3.9.6"
  }
 },
 "nbformat": 4,
 "nbformat_minor": 5
}

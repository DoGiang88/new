{
 "cells": [
  {
   "cell_type": "markdown",
   "id": "bc765cc8",
   "metadata": {},
   "source": [
    "# [Thực hành] Vẽ hình vuông sử dụng vòng lặp while"
   ]
  },
  {
   "cell_type": "code",
   "execution_count": null,
   "id": "e5200726",
   "metadata": {},
   "outputs": [
    {
     "name": "stdout",
     "output_type": "stream",
     "text": [
      "Nhập chiều dài cạnh hình vuông: 200\n"
     ]
    }
   ],
   "source": [
    "canh = int (input (\"Nhập chiều dài cạnh hình vuông: \"))\n",
    "\n",
    "import turtle\n",
    "p = turtle.Turtle ()\n",
    "p.hideturtle()\n",
    "p.pencolor(\"green\")\n",
    "so_lan = 0\n",
    "while so_lan <= 4:\n",
    "    p.fd (canh)\n",
    "    p.rt (90)\n",
    "    so_lan += 1\n",
    "    \n",
    "turtle.done ()"
   ]
  },
  {
   "cell_type": "markdown",
   "id": "33f7df2f",
   "metadata": {},
   "source": [
    "# [Thực hành] Rùa tập thể dục"
   ]
  },
  {
   "cell_type": "code",
   "execution_count": null,
   "id": "81964df4",
   "metadata": {},
   "outputs": [],
   "source": [
    "# Import thư viện đồ họa turtle\n",
    "import turtle\n",
    "# Import thư viện sinh số ngẫu nhiên\n",
    "import random as r\n",
    "# khởi tạo turtle\n",
    "p = turtle.Turtle()\n",
    "p.shape(\"turtle\") #Đổi hình bút vẽ mũi tên thành hình con rùa\n",
    "p.pensize(5)\n",
    "p.color(\"green\")\n",
    "p.speed(3)\n",
    "p.penup()\n",
    "\n",
    "p.hideturtle ()   #ẩn bút đi để di chuyển sang trái \n",
    "p.goto(-400, 0)   #di chuyển rùa sang trái\n",
    "p.showturtle\n",
    "count = 0\n",
    "while count < 10:\n",
    "    # sinh hai giá trị ngẫu nhiên\n",
    "    down = r.randint(22, 55)\n",
    "    up = r.randint(20, 50)\n",
    "    p.pendown()\n",
    "    # rùa tiến về phía trước với giá trị ngẫu\n",
    "    # nhiên ở trên, có để lại nét vẽ\n",
    "    p.forward(down)\n",
    "    p.penup()\n",
    "    # rùa tiến về phía trước với giá trị ngẫu\n",
    "    # nhiên ở trên, không để lại nét vẽ\n",
    "    p.forward(up)\n",
    "    count += 1\n",
    "turtle.done()"
   ]
  },
  {
   "cell_type": "markdown",
   "id": "c253e80f",
   "metadata": {},
   "source": [
    "# [Thực hành] Rùa bị quản trong nhà"
   ]
  },
  {
   "cell_type": "code",
   "execution_count": null,
   "id": "fa680b04",
   "metadata": {},
   "outputs": [],
   "source": [
    "import turtle\n",
    "import random as r\n",
    "\n",
    "t = turtle.Turtle()\n",
    "t.hideturtle()\n",
    "t.penup()\n",
    "t.goto(0, -200)\n",
    "\n",
    "# Vẽ đường bao nhốt rùa\n",
    "# đường bao có màu đen\n",
    "t.speed(10)\n",
    "t.pensize(15)\n",
    "t.pencolor(\"red\")\n",
    "t.pendown()\n",
    "t.circle(200)\n",
    "# Đặt con trỏ rùa về chính giữa đường bao\n",
    "# Đổi màu rùa màu xanh\n",
    "t.penup()\n",
    "t.speed(10)\n",
    "t.shape(\"turtle\")\n",
    "t.pencolor('green')\n",
    "t.goto(0, 0)\n",
    "\n",
    "# Tạo hướng ngẫu nhiên ban đầu cho rùa\n",
    "# khi ở vị trí chính giữa đường bao\n",
    "angle = r.randint(0, 360)\n",
    "t.rt(angle)\n",
    "t.showturtle()\n",
    "# Bắt đầu cho rùa chạy thoát khỏi đường bao\n",
    "# Khi rùa di chuyển đến đường bao, bắt rùa\n",
    "# về lại vị trí chính giữa của hộp\n",
    "count = 0\n",
    "while True:\n",
    "    t.speed(1)\n",
    "    # rùa chỉ di chuyển một khoảng cách\n",
    "    # hơi bé hơn bán kính của hộp tròn là 200\n",
    "    # tránh rùa di chuyển đè lên vạch\n",
    "    t.forward(188)\n",
    "    # Bắt rùa về vị trí ban đầu, chính giữa hộp tròn\n",
    "    t.hideturtle()\n",
    "    t.speed(10)\n",
    "    t.goto(0, 0)\n",
    "    angle = r.randint(0, 360)\n",
    "    # Tạo hướng mới cho rùa chạy, thử vận may mới\n",
    "    t.right(angle)\n",
    "    t.showturtle()\n",
    "    # Khi rùa thử đến số lần nào đó thì dừng lại\n",
    "    # kết thúc chương trình bằng lệnh break\n",
    "    count += 1\n",
    "    if count == 10:\n",
    "        break\n",
    "\n",
    "turtle.done()"
   ]
  }
 ],
 "metadata": {
  "kernelspec": {
   "display_name": "Python 3 (ipykernel)",
   "language": "python",
   "name": "python3"
  },
  "language_info": {
   "codemirror_mode": {
    "name": "ipython",
    "version": 3
   },
   "file_extension": ".py",
   "mimetype": "text/x-python",
   "name": "python",
   "nbconvert_exporter": "python",
   "pygments_lexer": "ipython3",
   "version": "3.9.6"
  }
 },
 "nbformat": 4,
 "nbformat_minor": 5
}

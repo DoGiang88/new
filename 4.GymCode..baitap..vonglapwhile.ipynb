{
 "cells": [
  {
   "cell_type": "markdown",
   "id": "bc765cc8",
   "metadata": {},
   "source": [
    "# [Thực hành] Vẽ hình vuông sử dụng vòng lặp while"
   ]
  },
  {
   "cell_type": "code",
   "execution_count": null,
   "id": "e5200726",
   "metadata": {},
   "outputs": [
    {
     "name": "stdout",
     "output_type": "stream",
     "text": [
      "Nhập chiều dài cạnh hình vuông: 200\n"
     ]
    }
   ],
   "source": [
    "canh = int (input (\"Nhập chiều dài cạnh hình vuông: \"))\n",
    "\n",
    "import turtle\n",
    "p = turtle.Turtle ()\n",
    "p.hideturtle()\n",
    "p.pencolor(\"green\")\n",
    "so_lan = 0\n",
    "while so_lan <= 4:\n",
    "    p.fd (canh)\n",
    "    p.rt (90)\n",
    "    so_lan += 1\n",
    "    \n",
    "turtle.done ()"
   ]
  }
 ],
 "metadata": {
  "kernelspec": {
   "display_name": "Python 3 (ipykernel)",
   "language": "python",
   "name": "python3"
  },
  "language_info": {
   "codemirror_mode": {
    "name": "ipython",
    "version": 3
   },
   "file_extension": ".py",
   "mimetype": "text/x-python",
   "name": "python",
   "nbconvert_exporter": "python",
   "pygments_lexer": "ipython3",
   "version": "3.9.6"
  }
 },
 "nbformat": 4,
 "nbformat_minor": 5
}
